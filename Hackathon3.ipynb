{
  "nbformat": 4,
  "nbformat_minor": 0,
  "metadata": {
    "colab": {
      "name": "Untitled0.ipynb",
      "provenance": [],
      "collapsed_sections": []
    },
    "kernelspec": {
      "name": "python3",
      "display_name": "Python 3"
    }
  },
  "cells": [
    {
      "cell_type": "code",
      "metadata": {
        "id": "NpudSgZGCe-_",
        "colab_type": "code",
        "colab": {}
      },
      "source": [
        "#https://medium.com/biaslyai/beginners-guide-to-text-preprocessing-in-python-2cbeafbf5f44"
      ],
      "execution_count": 0,
      "outputs": []
    },
    {
      "cell_type": "code",
      "metadata": {
        "id": "1FrriP1n1nSd",
        "colab_type": "code",
        "outputId": "492dd607-0c27-4d8d-9c4e-268aa9e4114e",
        "colab": {
          "base_uri": "https://localhost:8080/",
          "height": 93
        }
      },
      "source": [
        "import nltk\n",
        "nltk.download('punkt')\n",
        "nltk.download('wordnet')\n",
        "from nltk import sent_tokenize, word_tokenize\n",
        "from nltk.stem.snowball import SnowballStemmer\n",
        "from nltk.stem.wordnet import WordNetLemmatizer\n",
        "from nltk.corpus import stopwords\n",
        "import pandas as pd\n",
        "import numpy as np\n",
        "import re"
      ],
      "execution_count": 0,
      "outputs": [
        {
          "output_type": "stream",
          "text": [
            "[nltk_data] Downloading package punkt to /root/nltk_data...\n",
            "[nltk_data]   Package punkt is already up-to-date!\n",
            "[nltk_data] Downloading package wordnet to /root/nltk_data...\n",
            "[nltk_data]   Package wordnet is already up-to-date!\n"
          ],
          "name": "stdout"
        }
      ]
    },
    {
      "cell_type": "code",
      "metadata": {
        "id": "PoG8U4y-2t8W",
        "colab_type": "code",
        "colab": {}
      },
      "source": [
        "Text = pd.read_csv(\"data_bumeran_full.csv\",encoding = \"utf-8\")\n",
        "Text = Text.drop(columns = [\"Unnamed: 0\",\"0\"])"
      ],
      "execution_count": 0,
      "outputs": []
    },
    {
      "cell_type": "code",
      "metadata": {
        "id": "dEuoekkU6qhV",
        "colab_type": "code",
        "colab": {}
      },
      "source": [
        "#sentences = \" Hello world! I am going for coffee before work! \"\n",
        "#words = word_tokenize(sentences)\n",
        "#print(words)\n",
        "#for i in range(len(Text[\"1\"])):\n",
        "#  Text[\"1\"][i] =  word_tokenize(Text[\"1\"][i])\n",
        "#  Text[\"2\"][i] =  word_tokenize(Text[\"2\"][i])\n",
        "#Text.head()"
      ],
      "execution_count": 0,
      "outputs": []
    },
    {
      "cell_type": "code",
      "metadata": {
        "id": "u2WpdF4T4MWe",
        "colab_type": "code",
        "colab": {}
      },
      "source": [
        "def tokenization_s(sentences): # same can be achieved for words tokens\n",
        "    s_new = []\n",
        "    for sent in (sentences[:][0]): #For NumpY = sentences[:]\n",
        "        s_token = sent_tokenize(sent)\n",
        "        if s_token != '':\n",
        "            s_new.append(s_token)\n",
        "    return s_new"
      ],
      "execution_count": 0,
      "outputs": []
    },
    {
      "cell_type": "code",
      "metadata": {
        "id": "8LyymQmc5yB9",
        "colab_type": "code",
        "colab": {}
      },
      "source": [
        "def preprocess(text):\n",
        "    clean_data = []\n",
        "    for x in (text[:][0]): #this is Df_pd for Df_np (text[:])\n",
        "        new_text = re.sub('<.*?>', '', x)   # remove HTML tags\n",
        "        new_text = re.sub(r'[^\\w\\s]', '', new_text) # remove punc.\n",
        "        new_text = re.sub(r'\\d+','',new_text)# remove numbers\n",
        "        new_text = new_text.lower() # lower case, .upper() for upper          \n",
        "        if new_text != '':\n",
        "            clean_data.append(new_text)\n",
        "    return clean_data"
      ],
      "execution_count": 0,
      "outputs": []
    },
    {
      "cell_type": "code",
      "metadata": {
        "id": "DwLTpOs29Ch3",
        "colab_type": "code",
        "colab": {}
      },
      "source": [
        "def tokenization_w(words):\n",
        "    w_new = []\n",
        "    for w in (words[:]):  # for NumPy = words[:]\n",
        "        w_token = word_tokenize(w)\n",
        "        if w_token != '':\n",
        "            w_new.append(w_token)\n",
        "    return w_new"
      ],
      "execution_count": 0,
      "outputs": []
    },
    {
      "cell_type": "code",
      "metadata": {
        "id": "6anMa72P_QjO",
        "colab_type": "code",
        "colab": {}
      },
      "source": [
        "snowball = SnowballStemmer(language = 'english')\n",
        "def stemming(words):\n",
        "    new = []\n",
        "    stem_words = [snowball.stem(x) for x in (words[:][0])]\n",
        "    new.append(stem_words)\n",
        "    return new"
      ],
      "execution_count": 0,
      "outputs": []
    },
    {
      "cell_type": "code",
      "metadata": {
        "id": "_fjOC5YyBC2z",
        "colab_type": "code",
        "outputId": "da255b9d-2ff4-4ed4-db6f-0a691a59987e",
        "colab": {
          "base_uri": "https://localhost:8080/",
          "height": 204
        }
      },
      "source": [
        "Text.head()"
      ],
      "execution_count": 0,
      "outputs": [
        {
          "output_type": "execute_result",
          "data": {
            "text/html": [
              "<div>\n",
              "<style scoped>\n",
              "    .dataframe tbody tr th:only-of-type {\n",
              "        vertical-align: middle;\n",
              "    }\n",
              "\n",
              "    .dataframe tbody tr th {\n",
              "        vertical-align: top;\n",
              "    }\n",
              "\n",
              "    .dataframe thead th {\n",
              "        text-align: right;\n",
              "    }\n",
              "</style>\n",
              "<table border=\"1\" class=\"dataframe\">\n",
              "  <thead>\n",
              "    <tr style=\"text-align: right;\">\n",
              "      <th></th>\n",
              "      <th>1</th>\n",
              "      <th>2</th>\n",
              "    </tr>\n",
              "  </thead>\n",
              "  <tbody>\n",
              "    <tr>\n",
              "      <th>0</th>\n",
              "      <td>PRACTICAS CONTABLES , en NAVARRO &amp; MORA ASESOR...</td>\n",
              "      <td>SOLICITAMOS PRACTICANTES PARA NUESTRA EMPRESA...</td>\n",
              "    </tr>\n",
              "    <tr>\n",
              "      <th>1</th>\n",
              "      <td>PRACTICANTE ADMINISTRATIVO, en JAVIER SALAS - ...</td>\n",
              "      <td>EMPRESA DE PRODUCCIONNECESITA PRACTICANTE ADM...</td>\n",
              "    </tr>\n",
              "    <tr>\n",
              "      <th>2</th>\n",
              "      <td>PRACTICANTE ADMINISTRATIVO, en FRIGOINCA S.A.C...</td>\n",
              "      <td>Practicantes en administración o afines, con ...</td>\n",
              "    </tr>\n",
              "    <tr>\n",
              "      <th>3</th>\n",
              "      <td>PRACTICANTE PROFESIONAL , en Confidencial - se...</td>\n",
              "      <td>Empresa de Prestigio del rubro de minería se ...</td>\n",
              "    </tr>\n",
              "    <tr>\n",
              "      <th>4</th>\n",
              "      <td>Practicante Contable , en DEFINE SERVICIOS S.A...</td>\n",
              "      <td>Funciones :1.       Procesar, codificar y con...</td>\n",
              "    </tr>\n",
              "  </tbody>\n",
              "</table>\n",
              "</div>"
            ],
            "text/plain": [
              "                                                   1                                                  2\n",
              "0  PRACTICAS CONTABLES , en NAVARRO & MORA ASESOR...   SOLICITAMOS PRACTICANTES PARA NUESTRA EMPRESA...\n",
              "1  PRACTICANTE ADMINISTRATIVO, en JAVIER SALAS - ...   EMPRESA DE PRODUCCIONNECESITA PRACTICANTE ADM...\n",
              "2  PRACTICANTE ADMINISTRATIVO, en FRIGOINCA S.A.C...   Practicantes en administración o afines, con ...\n",
              "3  PRACTICANTE PROFESIONAL , en Confidencial - se...   Empresa de Prestigio del rubro de minería se ...\n",
              "4  Practicante Contable , en DEFINE SERVICIOS S.A...   Funciones :1.       Procesar, codificar y con..."
            ]
          },
          "metadata": {
            "tags": []
          },
          "execution_count": 9
        }
      ]
    },
    {
      "cell_type": "code",
      "metadata": {
        "id": "T8kz6JrQ9oqK",
        "colab_type": "code",
        "outputId": "32569419-cf71-4f55-f416-896aad580e00",
        "colab": {
          "base_uri": "https://localhost:8080/",
          "height": 80
        }
      },
      "source": [
        "test = ['You like to eat apples. He has eaten many apples because he likes eating.']\n",
        "test_pd = pd.DataFrame(test) #makes this into a panda data frame\n",
        "test_pd"
      ],
      "execution_count": 0,
      "outputs": [
        {
          "output_type": "execute_result",
          "data": {
            "text/html": [
              "<div>\n",
              "<style scoped>\n",
              "    .dataframe tbody tr th:only-of-type {\n",
              "        vertical-align: middle;\n",
              "    }\n",
              "\n",
              "    .dataframe tbody tr th {\n",
              "        vertical-align: top;\n",
              "    }\n",
              "\n",
              "    .dataframe thead th {\n",
              "        text-align: right;\n",
              "    }\n",
              "</style>\n",
              "<table border=\"1\" class=\"dataframe\">\n",
              "  <thead>\n",
              "    <tr style=\"text-align: right;\">\n",
              "      <th></th>\n",
              "      <th>0</th>\n",
              "    </tr>\n",
              "  </thead>\n",
              "  <tbody>\n",
              "    <tr>\n",
              "      <th>0</th>\n",
              "      <td>You like to eat apples. He has eaten many appl...</td>\n",
              "    </tr>\n",
              "  </tbody>\n",
              "</table>\n",
              "</div>"
            ],
            "text/plain": [
              "                                                   0\n",
              "0  You like to eat apples. He has eaten many appl..."
            ]
          },
          "metadata": {
            "tags": []
          },
          "execution_count": 10
        }
      ]
    },
    {
      "cell_type": "code",
      "metadata": {
        "id": "Ay3kasVrD0em",
        "colab_type": "code",
        "outputId": "48771c34-ab57-4759-d137-4d0a5c647cdf",
        "colab": {
          "base_uri": "https://localhost:8080/",
          "height": 36
        }
      },
      "source": [
        "clean_test = preprocess(test_pd) #removes punctuation, see above\n",
        "clean_test"
      ],
      "execution_count": 0,
      "outputs": [
        {
          "output_type": "execute_result",
          "data": {
            "text/plain": [
              "['you like to eat apples he has eaten many apples because he likes eating']"
            ]
          },
          "metadata": {
            "tags": []
          },
          "execution_count": 11
        }
      ]
    },
    {
      "cell_type": "code",
      "metadata": {
        "id": "hfVzYKrSD3ct",
        "colab_type": "code",
        "outputId": "b8e2c5f2-e9c1-4934-d848-03a9782677bf",
        "colab": {
          "base_uri": "https://localhost:8080/",
          "height": 283
        }
      },
      "source": [
        "clean_words = tokenization_w(clean_test) # word tokenization\n",
        "clean_words"
      ],
      "execution_count": 0,
      "outputs": [
        {
          "output_type": "execute_result",
          "data": {
            "text/plain": [
              "[['you',\n",
              "  'like',\n",
              "  'to',\n",
              "  'eat',\n",
              "  'apples',\n",
              "  'he',\n",
              "  'has',\n",
              "  'eaten',\n",
              "  'many',\n",
              "  'apples',\n",
              "  'because',\n",
              "  'he',\n",
              "  'likes',\n",
              "  'eating']]"
            ]
          },
          "metadata": {
            "tags": []
          },
          "execution_count": 12
        }
      ]
    },
    {
      "cell_type": "code",
      "metadata": {
        "id": "bE2pqnixEAD5",
        "colab_type": "code",
        "outputId": "6fb9e6ad-37b8-4cd9-db2a-c0f32840adee",
        "colab": {
          "base_uri": "https://localhost:8080/",
          "height": 283
        }
      },
      "source": [
        "stem_test = stemming(clean_words) # stemming similar words\n",
        "stem_test"
      ],
      "execution_count": 0,
      "outputs": [
        {
          "output_type": "execute_result",
          "data": {
            "text/plain": [
              "[['you',\n",
              "  'like',\n",
              "  'to',\n",
              "  'eat',\n",
              "  'appl',\n",
              "  'he',\n",
              "  'has',\n",
              "  'eaten',\n",
              "  'mani',\n",
              "  'appl',\n",
              "  'becaus',\n",
              "  'he',\n",
              "  'like',\n",
              "  'eat']]"
            ]
          },
          "metadata": {
            "tags": []
          },
          "execution_count": 13
        }
      ]
    },
    {
      "cell_type": "code",
      "metadata": {
        "id": "kEg4FmYNF7Yv",
        "colab_type": "code",
        "colab": {}
      },
      "source": [
        "snowball = SnowballStemmer(language = 'spanish')\n",
        "def stemming(words):\n",
        "    new = []\n",
        "    stem_words = [snowball.stem(x) for x in (words[:][0])]\n",
        "    new.append(stem_words)\n",
        "    return new"
      ],
      "execution_count": 0,
      "outputs": []
    },
    {
      "cell_type": "code",
      "metadata": {
        "id": "Und0QPf2GQ1C",
        "colab_type": "code",
        "outputId": "f6c6e445-80b3-4a84-b7e4-3acd74b86f9c",
        "colab": {
          "base_uri": "https://localhost:8080/",
          "height": 80
        }
      },
      "source": [
        "test2 = [Text[\"1\"][0]]\n",
        "test2_pd = pd.DataFrame(test2)\n",
        "test2_pd"
      ],
      "execution_count": 0,
      "outputs": [
        {
          "output_type": "execute_result",
          "data": {
            "text/html": [
              "<div>\n",
              "<style scoped>\n",
              "    .dataframe tbody tr th:only-of-type {\n",
              "        vertical-align: middle;\n",
              "    }\n",
              "\n",
              "    .dataframe tbody tr th {\n",
              "        vertical-align: top;\n",
              "    }\n",
              "\n",
              "    .dataframe thead th {\n",
              "        text-align: right;\n",
              "    }\n",
              "</style>\n",
              "<table border=\"1\" class=\"dataframe\">\n",
              "  <thead>\n",
              "    <tr style=\"text-align: right;\">\n",
              "      <th></th>\n",
              "      <th>0</th>\n",
              "    </tr>\n",
              "  </thead>\n",
              "  <tbody>\n",
              "    <tr>\n",
              "      <th>0</th>\n",
              "      <td>PRACTICAS CONTABLES , en NAVARRO &amp; MORA ASESOR...</td>\n",
              "    </tr>\n",
              "  </tbody>\n",
              "</table>\n",
              "</div>"
            ],
            "text/plain": [
              "                                                   0\n",
              "0  PRACTICAS CONTABLES , en NAVARRO & MORA ASESOR..."
            ]
          },
          "metadata": {
            "tags": []
          },
          "execution_count": 15
        }
      ]
    },
    {
      "cell_type": "code",
      "metadata": {
        "id": "PKq6j50RHaGn",
        "colab_type": "code",
        "outputId": "3aadd70a-fea3-446a-9158-5ed794a69343",
        "colab": {
          "base_uri": "https://localhost:8080/",
          "height": 36
        }
      },
      "source": [
        "clean_test = preprocess(test2_pd) #removes punctuation, see above\n",
        "clean_test"
      ],
      "execution_count": 0,
      "outputs": [
        {
          "output_type": "execute_result",
          "data": {
            "text/plain": [
              "['practicas contables  en navarro  mora asesores sac  septiembre   bumerancompe']"
            ]
          },
          "metadata": {
            "tags": []
          },
          "execution_count": 16
        }
      ]
    },
    {
      "cell_type": "code",
      "metadata": {
        "id": "YkUklQ6THjy2",
        "colab_type": "code",
        "outputId": "eebaf8d3-4059-49d6-cb16-bed33c1bf119",
        "colab": {
          "base_uri": "https://localhost:8080/",
          "height": 188
        }
      },
      "source": [
        "clean_words = tokenization_w(clean_test) # word tokenization\n",
        "clean_words"
      ],
      "execution_count": 0,
      "outputs": [
        {
          "output_type": "execute_result",
          "data": {
            "text/plain": [
              "[['practicas',\n",
              "  'contables',\n",
              "  'en',\n",
              "  'navarro',\n",
              "  'mora',\n",
              "  'asesores',\n",
              "  'sac',\n",
              "  'septiembre',\n",
              "  'bumerancompe']]"
            ]
          },
          "metadata": {
            "tags": []
          },
          "execution_count": 17
        }
      ]
    },
    {
      "cell_type": "code",
      "metadata": {
        "id": "ZiqWOTxVHuIP",
        "colab_type": "code",
        "outputId": "9584a766-5d4a-4339-e7c9-b80abeef3622",
        "colab": {
          "base_uri": "https://localhost:8080/",
          "height": 188
        }
      },
      "source": [
        "stem_test = stemming(clean_words) # stemming similar words\n",
        "stem_test"
      ],
      "execution_count": 0,
      "outputs": [
        {
          "output_type": "execute_result",
          "data": {
            "text/plain": [
              "[['practic',\n",
              "  'contabl',\n",
              "  'en',\n",
              "  'navarr',\n",
              "  'mor',\n",
              "  'asesor',\n",
              "  'sac',\n",
              "  'septiembr',\n",
              "  'bumerancomp']]"
            ]
          },
          "metadata": {
            "tags": []
          },
          "execution_count": 18
        }
      ]
    },
    {
      "cell_type": "code",
      "metadata": {
        "id": "JBmrf_PiIP0q",
        "colab_type": "code",
        "colab": {}
      },
      "source": [
        "for i in range(len(Text[\"2\"])):\n",
        "  test = [Text[\"2\"][i]]\n",
        "  test_pd = pd.DataFrame(test) #makes this into a panda data frame\n",
        "  clean_test = preprocess(test_pd) #removes punctuation, see above\n",
        "  clean_words = tokenization_w(clean_test) # word tokenization\n",
        "  stem_test = stemming(clean_words) # stemming similar words\n",
        "  Text[\"2\"][i] =stem_test"
      ],
      "execution_count": 0,
      "outputs": []
    },
    {
      "cell_type": "code",
      "metadata": {
        "id": "PF7_BzoLIlvc",
        "colab_type": "code",
        "outputId": "c5f694ce-76ee-4d10-e1d1-4b32ffd574c6",
        "colab": {
          "base_uri": "https://localhost:8080/",
          "height": 204
        }
      },
      "source": [
        "Text.head()"
      ],
      "execution_count": 0,
      "outputs": [
        {
          "output_type": "execute_result",
          "data": {
            "text/html": [
              "<div>\n",
              "<style scoped>\n",
              "    .dataframe tbody tr th:only-of-type {\n",
              "        vertical-align: middle;\n",
              "    }\n",
              "\n",
              "    .dataframe tbody tr th {\n",
              "        vertical-align: top;\n",
              "    }\n",
              "\n",
              "    .dataframe thead th {\n",
              "        text-align: right;\n",
              "    }\n",
              "</style>\n",
              "<table border=\"1\" class=\"dataframe\">\n",
              "  <thead>\n",
              "    <tr style=\"text-align: right;\">\n",
              "      <th></th>\n",
              "      <th>1</th>\n",
              "      <th>2</th>\n",
              "    </tr>\n",
              "  </thead>\n",
              "  <tbody>\n",
              "    <tr>\n",
              "      <th>0</th>\n",
              "      <td>PRACTICAS CONTABLES , en NAVARRO &amp; MORA ASESOR...</td>\n",
              "      <td>[[solicit, practic, par, nuestr, empres, perso...</td>\n",
              "    </tr>\n",
              "    <tr>\n",
              "      <th>1</th>\n",
              "      <td>PRACTICANTE ADMINISTRATIVO, en JAVIER SALAS - ...</td>\n",
              "      <td>[[empres, de, produccionnecesit, practic, admi...</td>\n",
              "    </tr>\n",
              "    <tr>\n",
              "      <th>2</th>\n",
              "      <td>PRACTICANTE ADMINISTRATIVO, en FRIGOINCA S.A.C...</td>\n",
              "      <td>[[practic, en, administr, o, afin, con, domini...</td>\n",
              "    </tr>\n",
              "    <tr>\n",
              "      <th>3</th>\n",
              "      <td>PRACTICANTE PROFESIONAL , en Confidencial - se...</td>\n",
              "      <td>[[empres, de, prestigi, del, rubr, de, min, se...</td>\n",
              "    </tr>\n",
              "    <tr>\n",
              "      <th>4</th>\n",
              "      <td>Practicante Contable , en DEFINE SERVICIOS S.A...</td>\n",
              "      <td>[[funcion, proces, codific, y, contabiliz, los...</td>\n",
              "    </tr>\n",
              "  </tbody>\n",
              "</table>\n",
              "</div>"
            ],
            "text/plain": [
              "                                                   1                                                  2\n",
              "0  PRACTICAS CONTABLES , en NAVARRO & MORA ASESOR...  [[solicit, practic, par, nuestr, empres, perso...\n",
              "1  PRACTICANTE ADMINISTRATIVO, en JAVIER SALAS - ...  [[empres, de, produccionnecesit, practic, admi...\n",
              "2  PRACTICANTE ADMINISTRATIVO, en FRIGOINCA S.A.C...  [[practic, en, administr, o, afin, con, domini...\n",
              "3  PRACTICANTE PROFESIONAL , en Confidencial - se...  [[empres, de, prestigi, del, rubr, de, min, se...\n",
              "4  Practicante Contable , en DEFINE SERVICIOS S.A...  [[funcion, proces, codific, y, contabiliz, los..."
            ]
          },
          "metadata": {
            "tags": []
          },
          "execution_count": 20
        }
      ]
    },
    {
      "cell_type": "code",
      "metadata": {
        "id": "m7Tb_dh6ITQF",
        "colab_type": "code",
        "outputId": "28624823-9ea0-4efa-9ce4-18b8e79758d0",
        "colab": {
          "base_uri": "https://localhost:8080/",
          "height": 204
        }
      },
      "source": [
        "for i in range(len(Text[\"1\"])):\n",
        "  Text[\"1\"][i] = Text[\"1\"][i].split(\", en\")[0].strip().capitalize()\n",
        "Text.head()"
      ],
      "execution_count": 0,
      "outputs": [
        {
          "output_type": "execute_result",
          "data": {
            "text/html": [
              "<div>\n",
              "<style scoped>\n",
              "    .dataframe tbody tr th:only-of-type {\n",
              "        vertical-align: middle;\n",
              "    }\n",
              "\n",
              "    .dataframe tbody tr th {\n",
              "        vertical-align: top;\n",
              "    }\n",
              "\n",
              "    .dataframe thead th {\n",
              "        text-align: right;\n",
              "    }\n",
              "</style>\n",
              "<table border=\"1\" class=\"dataframe\">\n",
              "  <thead>\n",
              "    <tr style=\"text-align: right;\">\n",
              "      <th></th>\n",
              "      <th>1</th>\n",
              "      <th>2</th>\n",
              "    </tr>\n",
              "  </thead>\n",
              "  <tbody>\n",
              "    <tr>\n",
              "      <th>0</th>\n",
              "      <td>Practicas contables</td>\n",
              "      <td>[[solicit, practic, par, nuestr, empres, perso...</td>\n",
              "    </tr>\n",
              "    <tr>\n",
              "      <th>1</th>\n",
              "      <td>Practicante administrativo</td>\n",
              "      <td>[[empres, de, produccionnecesit, practic, admi...</td>\n",
              "    </tr>\n",
              "    <tr>\n",
              "      <th>2</th>\n",
              "      <td>Practicante administrativo</td>\n",
              "      <td>[[practic, en, administr, o, afin, con, domini...</td>\n",
              "    </tr>\n",
              "    <tr>\n",
              "      <th>3</th>\n",
              "      <td>Practicante profesional</td>\n",
              "      <td>[[empres, de, prestigi, del, rubr, de, min, se...</td>\n",
              "    </tr>\n",
              "    <tr>\n",
              "      <th>4</th>\n",
              "      <td>Practicante contable</td>\n",
              "      <td>[[funcion, proces, codific, y, contabiliz, los...</td>\n",
              "    </tr>\n",
              "  </tbody>\n",
              "</table>\n",
              "</div>"
            ],
            "text/plain": [
              "                            1                                                  2\n",
              "0         Practicas contables  [[solicit, practic, par, nuestr, empres, perso...\n",
              "1  Practicante administrativo  [[empres, de, produccionnecesit, practic, admi...\n",
              "2  Practicante administrativo  [[practic, en, administr, o, afin, con, domini...\n",
              "3     Practicante profesional  [[empres, de, prestigi, del, rubr, de, min, se...\n",
              "4        Practicante contable  [[funcion, proces, codific, y, contabiliz, los..."
            ]
          },
          "metadata": {
            "tags": []
          },
          "execution_count": 21
        }
      ]
    },
    {
      "cell_type": "code",
      "metadata": {
        "id": "ej_WzxlaLqlf",
        "colab_type": "code",
        "colab": {}
      },
      "source": [
        "Text.to_csv(\"data_bumeran_full_limpio.csv\")"
      ],
      "execution_count": 0,
      "outputs": []
    },
    {
      "cell_type": "code",
      "metadata": {
        "id": "RPfswGZ7OLu1",
        "colab_type": "code",
        "outputId": "1dd6757d-56e4-49e8-8029-3073a1d2f9a4",
        "colab": {
          "base_uri": "https://localhost:8080/",
          "height": 36
        }
      },
      "source": [
        "listakeywords=[]\n",
        "k = 0\n",
        "for i in range(len(Text[\"2\"])):\n",
        "  for j in range(len(Text[\"2\"][i][0])):\n",
        "    if len(Text[\"2\"][i][0][j])>4 and len(Text[\"2\"][i][0][j])<12 :\n",
        "      listakeywords.append([\"\",\"\"])\n",
        "      listakeywords[-1][0] = i\n",
        "      listakeywords[-1][1] = Text[\"2\"][i][0][j]\n",
        "len(listakeywords)\n",
        "    "
      ],
      "execution_count": 0,
      "outputs": [
        {
          "output_type": "execute_result",
          "data": {
            "text/plain": [
              "147082"
            ]
          },
          "metadata": {
            "tags": []
          },
          "execution_count": 23
        }
      ]
    },
    {
      "cell_type": "code",
      "metadata": {
        "id": "D0SHKVdNQZ9D",
        "colab_type": "code",
        "outputId": "172f6f99-d1f0-4bc2-9c4c-e73cf0b60df1",
        "colab": {
          "base_uri": "https://localhost:8080/",
          "height": 204
        }
      },
      "source": [
        "listakeywords_pd = pd.DataFrame(listakeywords)\n",
        "listakeywords_pd.head()\n"
      ],
      "execution_count": 0,
      "outputs": [
        {
          "output_type": "execute_result",
          "data": {
            "text/html": [
              "<div>\n",
              "<style scoped>\n",
              "    .dataframe tbody tr th:only-of-type {\n",
              "        vertical-align: middle;\n",
              "    }\n",
              "\n",
              "    .dataframe tbody tr th {\n",
              "        vertical-align: top;\n",
              "    }\n",
              "\n",
              "    .dataframe thead th {\n",
              "        text-align: right;\n",
              "    }\n",
              "</style>\n",
              "<table border=\"1\" class=\"dataframe\">\n",
              "  <thead>\n",
              "    <tr style=\"text-align: right;\">\n",
              "      <th></th>\n",
              "      <th>0</th>\n",
              "      <th>1</th>\n",
              "    </tr>\n",
              "  </thead>\n",
              "  <tbody>\n",
              "    <tr>\n",
              "      <th>0</th>\n",
              "      <td>0</td>\n",
              "      <td>solicit</td>\n",
              "    </tr>\n",
              "    <tr>\n",
              "      <th>1</th>\n",
              "      <td>0</td>\n",
              "      <td>practic</td>\n",
              "    </tr>\n",
              "    <tr>\n",
              "      <th>2</th>\n",
              "      <td>0</td>\n",
              "      <td>nuestr</td>\n",
              "    </tr>\n",
              "    <tr>\n",
              "      <th>3</th>\n",
              "      <td>0</td>\n",
              "      <td>empres</td>\n",
              "    </tr>\n",
              "    <tr>\n",
              "      <th>4</th>\n",
              "      <td>0</td>\n",
              "      <td>person</td>\n",
              "    </tr>\n",
              "  </tbody>\n",
              "</table>\n",
              "</div>"
            ],
            "text/plain": [
              "   0        1\n",
              "0  0  solicit\n",
              "1  0  practic\n",
              "2  0   nuestr\n",
              "3  0   empres\n",
              "4  0   person"
            ]
          },
          "metadata": {
            "tags": []
          },
          "execution_count": 24
        }
      ]
    },
    {
      "cell_type": "code",
      "metadata": {
        "id": "dwFHaqxjRIvM",
        "colab_type": "code",
        "colab": {}
      },
      "source": [
        "listakeywords_pd.to_csv(\"listakeywords.csv\")"
      ],
      "execution_count": 0,
      "outputs": []
    },
    {
      "cell_type": "code",
      "metadata": {
        "id": "Mj4eO2oyfHAC",
        "colab_type": "code",
        "colab": {}
      },
      "source": [
        "listatop = [\"respons\",\"gestion\",\"equip\",\"ingeni\",\"inform\",\"industrial\",\"offic\",\"excel\",\"diseñ\",\"analisis\"]"
      ],
      "execution_count": 0,
      "outputs": []
    },
    {
      "cell_type": "code",
      "metadata": {
        "id": "0sLLlLH7oJ8W",
        "colab_type": "code",
        "colab": {}
      },
      "source": [
        "matrizfinal = Text\n",
        "matrizfinal = matrizfinal.copy()"
      ],
      "execution_count": 0,
      "outputs": []
    },
    {
      "cell_type": "code",
      "metadata": {
        "id": "q1oP6iI0gV0w",
        "colab_type": "code",
        "outputId": "e82f4b6c-de92-4280-b5b9-9719f97d9df9",
        "colab": {
          "base_uri": "https://localhost:8080/",
          "height": 204
        }
      },
      "source": [
        "for i in listatop:\n",
        "  matrizfinal[i] = 0\n",
        "matrizfinal.head()\n",
        " "
      ],
      "execution_count": 0,
      "outputs": [
        {
          "output_type": "execute_result",
          "data": {
            "text/html": [
              "<div>\n",
              "<style scoped>\n",
              "    .dataframe tbody tr th:only-of-type {\n",
              "        vertical-align: middle;\n",
              "    }\n",
              "\n",
              "    .dataframe tbody tr th {\n",
              "        vertical-align: top;\n",
              "    }\n",
              "\n",
              "    .dataframe thead th {\n",
              "        text-align: right;\n",
              "    }\n",
              "</style>\n",
              "<table border=\"1\" class=\"dataframe\">\n",
              "  <thead>\n",
              "    <tr style=\"text-align: right;\">\n",
              "      <th></th>\n",
              "      <th>1</th>\n",
              "      <th>2</th>\n",
              "      <th>respons</th>\n",
              "      <th>gestion</th>\n",
              "      <th>equip</th>\n",
              "      <th>ingeni</th>\n",
              "      <th>inform</th>\n",
              "      <th>industrial</th>\n",
              "      <th>offic</th>\n",
              "      <th>excel</th>\n",
              "      <th>diseñ</th>\n",
              "      <th>analisis</th>\n",
              "    </tr>\n",
              "  </thead>\n",
              "  <tbody>\n",
              "    <tr>\n",
              "      <th>0</th>\n",
              "      <td>Practicas contables</td>\n",
              "      <td>[[solicit, practic, par, nuestr, empres, perso...</td>\n",
              "      <td>0</td>\n",
              "      <td>0</td>\n",
              "      <td>0</td>\n",
              "      <td>0</td>\n",
              "      <td>0</td>\n",
              "      <td>0</td>\n",
              "      <td>0</td>\n",
              "      <td>0</td>\n",
              "      <td>0</td>\n",
              "      <td>0</td>\n",
              "    </tr>\n",
              "    <tr>\n",
              "      <th>1</th>\n",
              "      <td>Practicante administrativo</td>\n",
              "      <td>[[empres, de, produccionnecesit, practic, admi...</td>\n",
              "      <td>0</td>\n",
              "      <td>0</td>\n",
              "      <td>0</td>\n",
              "      <td>0</td>\n",
              "      <td>0</td>\n",
              "      <td>0</td>\n",
              "      <td>0</td>\n",
              "      <td>0</td>\n",
              "      <td>0</td>\n",
              "      <td>0</td>\n",
              "    </tr>\n",
              "    <tr>\n",
              "      <th>2</th>\n",
              "      <td>Practicante administrativo</td>\n",
              "      <td>[[practic, en, administr, o, afin, con, domini...</td>\n",
              "      <td>0</td>\n",
              "      <td>0</td>\n",
              "      <td>0</td>\n",
              "      <td>0</td>\n",
              "      <td>0</td>\n",
              "      <td>0</td>\n",
              "      <td>0</td>\n",
              "      <td>0</td>\n",
              "      <td>0</td>\n",
              "      <td>0</td>\n",
              "    </tr>\n",
              "    <tr>\n",
              "      <th>3</th>\n",
              "      <td>Practicante profesional</td>\n",
              "      <td>[[empres, de, prestigi, del, rubr, de, min, se...</td>\n",
              "      <td>0</td>\n",
              "      <td>0</td>\n",
              "      <td>0</td>\n",
              "      <td>0</td>\n",
              "      <td>0</td>\n",
              "      <td>0</td>\n",
              "      <td>0</td>\n",
              "      <td>0</td>\n",
              "      <td>0</td>\n",
              "      <td>0</td>\n",
              "    </tr>\n",
              "    <tr>\n",
              "      <th>4</th>\n",
              "      <td>Practicante contable</td>\n",
              "      <td>[[funcion, proces, codific, y, contabiliz, los...</td>\n",
              "      <td>0</td>\n",
              "      <td>0</td>\n",
              "      <td>0</td>\n",
              "      <td>0</td>\n",
              "      <td>0</td>\n",
              "      <td>0</td>\n",
              "      <td>0</td>\n",
              "      <td>0</td>\n",
              "      <td>0</td>\n",
              "      <td>0</td>\n",
              "    </tr>\n",
              "  </tbody>\n",
              "</table>\n",
              "</div>"
            ],
            "text/plain": [
              "                            1  ... analisis\n",
              "0         Practicas contables  ...        0\n",
              "1  Practicante administrativo  ...        0\n",
              "2  Practicante administrativo  ...        0\n",
              "3     Practicante profesional  ...        0\n",
              "4        Practicante contable  ...        0\n",
              "\n",
              "[5 rows x 12 columns]"
            ]
          },
          "metadata": {
            "tags": []
          },
          "execution_count": 28
        }
      ]
    },
    {
      "cell_type": "code",
      "metadata": {
        "id": "ZRRVMkvXq8P0",
        "colab_type": "code",
        "colab": {}
      },
      "source": [
        "matrizfinal.to_csv(\"matrizfinal.csv\")"
      ],
      "execution_count": 0,
      "outputs": []
    }
  ]
}