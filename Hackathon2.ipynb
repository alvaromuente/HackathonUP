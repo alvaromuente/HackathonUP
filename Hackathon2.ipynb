{
 "cells": [
  {
   "cell_type": "code",
   "execution_count": 1,
   "metadata": {},
   "outputs": [],
   "source": [
    "import pandas as pd\n",
    "import seaborn\n",
    "import requests\n",
    "import urllib.request\n",
    "from bs4 import BeautifulSoup"
   ]
  },
  {
   "cell_type": "code",
   "execution_count": 2,
   "metadata": {},
   "outputs": [],
   "source": [
    "cantpag = 54"
   ]
  },
  {
   "cell_type": "code",
   "execution_count": 3,
   "metadata": {},
   "outputs": [],
   "source": [
    "listaurl = []\n",
    "for i in range(1,cantpag+1):\n",
    "    listaurl.append('https://www.bumeran.com.pe/empleos-busqueda-practicante-pagina-{}.html'.format(i))"
   ]
  },
  {
   "cell_type": "code",
   "execution_count": 4,
   "metadata": {},
   "outputs": [
    {
     "data": {
      "text/plain": [
       "['https://www.bumeran.com.pe/empleos-busqueda-practicante-pagina-1.html',\n",
       " 'https://www.bumeran.com.pe/empleos-busqueda-practicante-pagina-2.html',\n",
       " 'https://www.bumeran.com.pe/empleos-busqueda-practicante-pagina-3.html',\n",
       " 'https://www.bumeran.com.pe/empleos-busqueda-practicante-pagina-4.html',\n",
       " 'https://www.bumeran.com.pe/empleos-busqueda-practicante-pagina-5.html',\n",
       " 'https://www.bumeran.com.pe/empleos-busqueda-practicante-pagina-6.html',\n",
       " 'https://www.bumeran.com.pe/empleos-busqueda-practicante-pagina-7.html',\n",
       " 'https://www.bumeran.com.pe/empleos-busqueda-practicante-pagina-8.html',\n",
       " 'https://www.bumeran.com.pe/empleos-busqueda-practicante-pagina-9.html',\n",
       " 'https://www.bumeran.com.pe/empleos-busqueda-practicante-pagina-10.html',\n",
       " 'https://www.bumeran.com.pe/empleos-busqueda-practicante-pagina-11.html',\n",
       " 'https://www.bumeran.com.pe/empleos-busqueda-practicante-pagina-12.html',\n",
       " 'https://www.bumeran.com.pe/empleos-busqueda-practicante-pagina-13.html',\n",
       " 'https://www.bumeran.com.pe/empleos-busqueda-practicante-pagina-14.html',\n",
       " 'https://www.bumeran.com.pe/empleos-busqueda-practicante-pagina-15.html',\n",
       " 'https://www.bumeran.com.pe/empleos-busqueda-practicante-pagina-16.html',\n",
       " 'https://www.bumeran.com.pe/empleos-busqueda-practicante-pagina-17.html',\n",
       " 'https://www.bumeran.com.pe/empleos-busqueda-practicante-pagina-18.html',\n",
       " 'https://www.bumeran.com.pe/empleos-busqueda-practicante-pagina-19.html',\n",
       " 'https://www.bumeran.com.pe/empleos-busqueda-practicante-pagina-20.html',\n",
       " 'https://www.bumeran.com.pe/empleos-busqueda-practicante-pagina-21.html',\n",
       " 'https://www.bumeran.com.pe/empleos-busqueda-practicante-pagina-22.html',\n",
       " 'https://www.bumeran.com.pe/empleos-busqueda-practicante-pagina-23.html',\n",
       " 'https://www.bumeran.com.pe/empleos-busqueda-practicante-pagina-24.html',\n",
       " 'https://www.bumeran.com.pe/empleos-busqueda-practicante-pagina-25.html',\n",
       " 'https://www.bumeran.com.pe/empleos-busqueda-practicante-pagina-26.html',\n",
       " 'https://www.bumeran.com.pe/empleos-busqueda-practicante-pagina-27.html',\n",
       " 'https://www.bumeran.com.pe/empleos-busqueda-practicante-pagina-28.html',\n",
       " 'https://www.bumeran.com.pe/empleos-busqueda-practicante-pagina-29.html',\n",
       " 'https://www.bumeran.com.pe/empleos-busqueda-practicante-pagina-30.html',\n",
       " 'https://www.bumeran.com.pe/empleos-busqueda-practicante-pagina-31.html',\n",
       " 'https://www.bumeran.com.pe/empleos-busqueda-practicante-pagina-32.html',\n",
       " 'https://www.bumeran.com.pe/empleos-busqueda-practicante-pagina-33.html',\n",
       " 'https://www.bumeran.com.pe/empleos-busqueda-practicante-pagina-34.html',\n",
       " 'https://www.bumeran.com.pe/empleos-busqueda-practicante-pagina-35.html',\n",
       " 'https://www.bumeran.com.pe/empleos-busqueda-practicante-pagina-36.html',\n",
       " 'https://www.bumeran.com.pe/empleos-busqueda-practicante-pagina-37.html',\n",
       " 'https://www.bumeran.com.pe/empleos-busqueda-practicante-pagina-38.html',\n",
       " 'https://www.bumeran.com.pe/empleos-busqueda-practicante-pagina-39.html',\n",
       " 'https://www.bumeran.com.pe/empleos-busqueda-practicante-pagina-40.html',\n",
       " 'https://www.bumeran.com.pe/empleos-busqueda-practicante-pagina-41.html',\n",
       " 'https://www.bumeran.com.pe/empleos-busqueda-practicante-pagina-42.html',\n",
       " 'https://www.bumeran.com.pe/empleos-busqueda-practicante-pagina-43.html',\n",
       " 'https://www.bumeran.com.pe/empleos-busqueda-practicante-pagina-44.html',\n",
       " 'https://www.bumeran.com.pe/empleos-busqueda-practicante-pagina-45.html',\n",
       " 'https://www.bumeran.com.pe/empleos-busqueda-practicante-pagina-46.html',\n",
       " 'https://www.bumeran.com.pe/empleos-busqueda-practicante-pagina-47.html',\n",
       " 'https://www.bumeran.com.pe/empleos-busqueda-practicante-pagina-48.html',\n",
       " 'https://www.bumeran.com.pe/empleos-busqueda-practicante-pagina-49.html',\n",
       " 'https://www.bumeran.com.pe/empleos-busqueda-practicante-pagina-50.html',\n",
       " 'https://www.bumeran.com.pe/empleos-busqueda-practicante-pagina-51.html',\n",
       " 'https://www.bumeran.com.pe/empleos-busqueda-practicante-pagina-52.html',\n",
       " 'https://www.bumeran.com.pe/empleos-busqueda-practicante-pagina-53.html',\n",
       " 'https://www.bumeran.com.pe/empleos-busqueda-practicante-pagina-54.html']"
      ]
     },
     "execution_count": 4,
     "metadata": {},
     "output_type": "execute_result"
    }
   ],
   "source": [
    "listaurl"
   ]
  },
  {
   "cell_type": "code",
   "execution_count": 5,
   "metadata": {},
   "outputs": [],
   "source": [
    "listaurl2 = []"
   ]
  },
  {
   "cell_type": "code",
   "execution_count": 6,
   "metadata": {},
   "outputs": [],
   "source": [
    "for url in listaurl:\n",
    "    response = requests.get(url)\n",
    "    soup = BeautifulSoup(response.text, 'html.parser')\n",
    "    temp = soup.findAll('a')\n",
    "    for i in temp:\n",
    "        if 'indiceAviso' in str(i):\n",
    "            listaurl2.append(i['href'])"
   ]
  },
  {
   "cell_type": "code",
   "execution_count": 17,
   "metadata": {},
   "outputs": [
    {
     "data": {
      "text/plain": [
       "1760"
      ]
     },
     "execution_count": 17,
     "metadata": {},
     "output_type": "execute_result"
    }
   ],
   "source": [
    "len(listaurl2)"
   ]
  },
  {
   "cell_type": "code",
   "execution_count": 18,
   "metadata": {},
   "outputs": [
    {
     "data": {
      "text/plain": [
       "['/empleos/practicas-contables-navarro-&-mora-asesores-sac-1113561606.html?indiceAviso=0',\n",
       " '/empleos/practicante-administrativo-javier-salas-1113570522.html?indiceAviso=1',\n",
       " '/empleos/practicante-administrativo-frigoinca-s.a.c.-1113528084.html?indiceAviso=2',\n",
       " '/empleos/practicante-profesional-1113550206.html?indiceAviso=3',\n",
       " '/empleos/practicante-contable-define-servicios-s.a.c.-1113576642.html?indiceAviso=4']"
      ]
     },
     "execution_count": 18,
     "metadata": {},
     "output_type": "execute_result"
    }
   ],
   "source": [
    "listaurl2[0:5]"
   ]
  },
  {
   "cell_type": "code",
   "execution_count": 22,
   "metadata": {},
   "outputs": [],
   "source": [
    "inicio = 'https://www.bumeran.com.pe'\n",
    "limpiar = {\"\\xa0\":\" \",\"\\n\":\" \",\"\\t\":\" \"}\n",
    "data = []\n",
    "for url in listaurl2:\n",
    "    response = requests.get(str(inicio) + str(url))\n",
    "    soup = BeautifulSoup(response.text, 'html.parser')\n",
    "    data.append([\"\",\"\",\"\"])\n",
    "    data[-1][0] = url\n",
    "    data[-1][1] = soup.find_all(\"title\")[0].text\n",
    "    data[-1][2] = soup.find_all(\"div\", {\"class\": \"aviso_description\"})[0].text\n",
    "    for k,y in limpiar.items():\n",
    "        data[-1][2] = data[-1][2].replace(k,y)"
   ]
  },
  {
   "cell_type": "code",
   "execution_count": 23,
   "metadata": {},
   "outputs": [
    {
     "data": {
      "text/plain": [
       "1760"
      ]
     },
     "execution_count": 23,
     "metadata": {},
     "output_type": "execute_result"
    }
   ],
   "source": [
    "len(data)"
   ]
  },
  {
   "cell_type": "code",
   "execution_count": 27,
   "metadata": {},
   "outputs": [],
   "source": [
    "df = pd.DataFrame(data)"
   ]
  },
  {
   "cell_type": "code",
   "execution_count": 28,
   "metadata": {},
   "outputs": [
    {
     "data": {
      "text/html": [
       "<div>\n",
       "<style scoped>\n",
       "    .dataframe tbody tr th:only-of-type {\n",
       "        vertical-align: middle;\n",
       "    }\n",
       "\n",
       "    .dataframe tbody tr th {\n",
       "        vertical-align: top;\n",
       "    }\n",
       "\n",
       "    .dataframe thead th {\n",
       "        text-align: right;\n",
       "    }\n",
       "</style>\n",
       "<table border=\"1\" class=\"dataframe\">\n",
       "  <thead>\n",
       "    <tr style=\"text-align: right;\">\n",
       "      <th></th>\n",
       "      <th>0</th>\n",
       "      <th>1</th>\n",
       "      <th>2</th>\n",
       "    </tr>\n",
       "  </thead>\n",
       "  <tbody>\n",
       "    <tr>\n",
       "      <td>0</td>\n",
       "      <td>/empleos/practicas-contables-navarro-&amp;-mora-as...</td>\n",
       "      <td>PRACTICAS CONTABLES , en NAVARRO &amp; MORA ASESOR...</td>\n",
       "      <td>SOLICITAMOS PRACTICANTES PARA NUESTRA EMPRESA...</td>\n",
       "    </tr>\n",
       "    <tr>\n",
       "      <td>1</td>\n",
       "      <td>/empleos/practicante-administrativo-javier-sal...</td>\n",
       "      <td>PRACTICANTE ADMINISTRATIVO, en JAVIER SALAS - ...</td>\n",
       "      <td>EMPRESA DE PRODUCCIONNECESITA PRACTICANTE ADM...</td>\n",
       "    </tr>\n",
       "    <tr>\n",
       "      <td>2</td>\n",
       "      <td>/empleos/practicante-administrativo-frigoinca-...</td>\n",
       "      <td>PRACTICANTE ADMINISTRATIVO, en FRIGOINCA S.A.C...</td>\n",
       "      <td>Practicantes en administración o afines, con ...</td>\n",
       "    </tr>\n",
       "    <tr>\n",
       "      <td>3</td>\n",
       "      <td>/empleos/practicante-profesional-1113550206.ht...</td>\n",
       "      <td>PRACTICANTE PROFESIONAL , en Confidencial - se...</td>\n",
       "      <td>Empresa de Prestigio del rubro de minería se ...</td>\n",
       "    </tr>\n",
       "    <tr>\n",
       "      <td>4</td>\n",
       "      <td>/empleos/practicante-contable-define-servicios...</td>\n",
       "      <td>Practicante Contable , en DEFINE SERVICIOS S.A...</td>\n",
       "      <td>Funciones :1.       Procesar, codificar y con...</td>\n",
       "    </tr>\n",
       "  </tbody>\n",
       "</table>\n",
       "</div>"
      ],
      "text/plain": [
       "                                                   0  \\\n",
       "0  /empleos/practicas-contables-navarro-&-mora-as...   \n",
       "1  /empleos/practicante-administrativo-javier-sal...   \n",
       "2  /empleos/practicante-administrativo-frigoinca-...   \n",
       "3  /empleos/practicante-profesional-1113550206.ht...   \n",
       "4  /empleos/practicante-contable-define-servicios...   \n",
       "\n",
       "                                                   1  \\\n",
       "0  PRACTICAS CONTABLES , en NAVARRO & MORA ASESOR...   \n",
       "1  PRACTICANTE ADMINISTRATIVO, en JAVIER SALAS - ...   \n",
       "2  PRACTICANTE ADMINISTRATIVO, en FRIGOINCA S.A.C...   \n",
       "3  PRACTICANTE PROFESIONAL , en Confidencial - se...   \n",
       "4  Practicante Contable , en DEFINE SERVICIOS S.A...   \n",
       "\n",
       "                                                   2  \n",
       "0   SOLICITAMOS PRACTICANTES PARA NUESTRA EMPRESA...  \n",
       "1   EMPRESA DE PRODUCCIONNECESITA PRACTICANTE ADM...  \n",
       "2   Practicantes en administración o afines, con ...  \n",
       "3   Empresa de Prestigio del rubro de minería se ...  \n",
       "4   Funciones :1.       Procesar, codificar y con...  "
      ]
     },
     "execution_count": 28,
     "metadata": {},
     "output_type": "execute_result"
    }
   ],
   "source": [
    "df.head()"
   ]
  },
  {
   "cell_type": "code",
   "execution_count": 29,
   "metadata": {},
   "outputs": [
    {
     "name": "stdout",
     "output_type": "stream",
     "text": [
      "<class 'pandas.core.frame.DataFrame'>\n",
      "RangeIndex: 1760 entries, 0 to 1759\n",
      "Data columns (total 3 columns):\n",
      "0    1760 non-null object\n",
      "1    1760 non-null object\n",
      "2    1760 non-null object\n",
      "dtypes: object(3)\n",
      "memory usage: 41.4+ KB\n"
     ]
    }
   ],
   "source": [
    "df.info()"
   ]
  },
  {
   "cell_type": "code",
   "execution_count": 30,
   "metadata": {},
   "outputs": [],
   "source": [
    "df.to_csv('data_bumeran_full.csv',encoding='utf-8')"
   ]
  }
 ],
 "metadata": {
  "kernelspec": {
   "display_name": "Python 3",
   "language": "python",
   "name": "python3"
  },
  "language_info": {
   "codemirror_mode": {
    "name": "ipython",
    "version": 3
   },
   "file_extension": ".py",
   "mimetype": "text/x-python",
   "name": "python",
   "nbconvert_exporter": "python",
   "pygments_lexer": "ipython3",
   "version": "3.6.8"
  }
 },
 "nbformat": 4,
 "nbformat_minor": 2
}
