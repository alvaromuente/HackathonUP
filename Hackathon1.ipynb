{
 "cells": [
  {
   "cell_type": "code",
   "execution_count": 44,
   "metadata": {},
   "outputs": [],
   "source": [
    "import pandas as pd\n",
    "import seaborn\n",
    "import unicodedata"
   ]
  },
  {
   "cell_type": "code",
   "execution_count": 2,
   "metadata": {},
   "outputs": [],
   "source": [
    "import requests\n",
    "import urllib.request\n",
    "import time\n",
    "from bs4 import BeautifulSoup"
   ]
  },
  {
   "cell_type": "code",
   "execution_count": 3,
   "metadata": {},
   "outputs": [
    {
     "data": {
      "text/plain": [
       "<Response [200]>"
      ]
     },
     "execution_count": 3,
     "metadata": {},
     "output_type": "execute_result"
    }
   ],
   "source": [
    "url = 'https://www.bumeran.com.pe/empleos-busqueda-practicante-comercial-pagina-{}.html'.format(\"1\")\n",
    "response = requests.get(url)\n",
    "response"
   ]
  },
  {
   "cell_type": "code",
   "execution_count": 4,
   "metadata": {},
   "outputs": [],
   "source": [
    "soup = BeautifulSoup(response.text, 'html.parser')"
   ]
  },
  {
   "cell_type": "code",
   "execution_count": 5,
   "metadata": {},
   "outputs": [],
   "source": [
    "lista = soup.findAll('a')"
   ]
  },
  {
   "cell_type": "code",
   "execution_count": 6,
   "metadata": {},
   "outputs": [],
   "source": [
    "lista2 = []"
   ]
  },
  {
   "cell_type": "code",
   "execution_count": 7,
   "metadata": {},
   "outputs": [],
   "source": [
    "for i in lista:\n",
    "    if 'indiceAviso' in str(i):\n",
    "        lista2.append(i['href'])"
   ]
  },
  {
   "cell_type": "code",
   "execution_count": 8,
   "metadata": {},
   "outputs": [
    {
     "data": {
      "text/plain": [
       "['/empleos/practicante-comercial-tupemesa-1113576586.html?indiceAviso=0',\n",
       " '/empleos/practicante-comercial-supermercados-peruanos-s.a.-1113561539.html?indiceAviso=1',\n",
       " '/empleos/practicante-comercial-talma-servicios-aeroportuarios-1113564597.html?indiceAviso=2',\n",
       " '/empleos/practicante-comercial-interseguro-compania-de-seguros-s.a.-1113573806.html?indiceAviso=3',\n",
       " '/empleos/practicante-comercial-nexa-resources-1113526233.html?indiceAviso=4',\n",
       " '/empleos/practicante-comercial-1113564423.html?indiceAviso=5',\n",
       " '/empleos/practicante-profesional-comercial-bitel-1113545827.html?indiceAviso=6',\n",
       " '/empleos/practicante-profesional-comercial-motriza-sa.-1113537390.html?indiceAviso=7',\n",
       " '/empleos/practicante-profesional-area-comercial-housemart-peru-s.a.c.-1113537930.html?indiceAviso=8',\n",
       " '/empleos/practicante-profesional-comercial-modasa-1111301942.html?indiceAviso=9',\n",
       " '/empleos/practicante-profesional-area-comercial-cidelsa-1113571667.html?indiceAviso=10',\n",
       " '/empleos/practicante-profesional-comercial-envasado-corporacion-primax-s.a.-1113565327.html?indiceAviso=11',\n",
       " '/empleos/practicante-comercial-ventas-trupal-s.a-1113532363.html?indiceAviso=12',\n",
       " '/empleos/practicante-de-inteligencia-comercial-lucky-s.a.c-1113560988.html?indiceAviso=13',\n",
       " '/empleos/practicante-de-inteligencia-comercial-banco-de-comercio-1113572438.html?indiceAviso=14',\n",
       " '/empleos/practicante-comercial-canal-sudamerica-ceramica-lima-s.a.-1113366360.html?indiceAviso=15',\n",
       " '/empleos/practicante-comercial-marcas-propias-tai-loy-s.-a.-1113529652.html?indiceAviso=16',\n",
       " '/empleos/practicante-para-el-area-comercial-bsg-institute-1113575007.html?indiceAviso=17',\n",
       " '/empleos/area-comercial-practicas-ingenieria-industrial-cartones-del-pacifico-1113565358.html?indiceAviso=18',\n",
       " '/empleos/practicante-de-inteligencia-comercial-financiera-efectiva-grupo-efe-1113503406.html?indiceAviso=19',\n",
       " '/empleos/practicante-del-area-comercial-ad-honorem-better-clean-sac-1113560142.html?indiceAviso=20',\n",
       " '/empleos/practicante-pre-profesional-profesional-area-comercial-cartones-del-pacifico-1113532800.html?indiceAviso=21',\n",
       " '/empleos/practicante-profesional-para-la-gerencia-comercial-adinelsa-1113558917.html?indiceAviso=22',\n",
       " '/empleos/practicante-pre-profesional-comercial-gp-cod:-10914112-adecco-peru-s.a-1113562952.html?indiceAviso=23',\n",
       " '/empleos/practicas-profesionales-dpto-comercial-y-marketing-1113578561.html?indiceAviso=24',\n",
       " '/empleos/practicante-pre-profesional-de-marketing-comercial-inchcape-peru-1113576691.html?indiceAviso=25',\n",
       " '/empleos/practicas-pre-profesionales-dpto-comercial-y-marketing-1113571658.html?indiceAviso=26',\n",
       " '/empleos/practicante-comercial-pricewaterhousecoopers-1113465349.html?indiceAviso=27',\n",
       " '/empleos/practicante-comercial-pricewaterhousecoopers-1113465349.html?indiceAviso=27',\n",
       " '/empleos/practicante-comercial-pricewaterhousecoopers-1113465349.html?indiceAviso=27',\n",
       " '/empleos/practicante-comercial-1113580714.html?indiceAviso=28',\n",
       " '/empleos/practicante-comercial-four-time-logistics-e.i.r.l.-1113563514.html?indiceAviso=29']"
      ]
     },
     "execution_count": 8,
     "metadata": {},
     "output_type": "execute_result"
    }
   ],
   "source": [
    "lista2"
   ]
  },
  {
   "cell_type": "code",
   "execution_count": 15,
   "metadata": {},
   "outputs": [],
   "source": [
    "inicio = 'https://www.bumeran.com.pe'\n",
    "data = []"
   ]
  },
  {
   "cell_type": "code",
   "execution_count": 54,
   "metadata": {},
   "outputs": [],
   "source": [
    "urlpuesto = inicio + lista2[0]\n",
    "responsepuesto = requests.get(urlpuesto)\n",
    "souppuesto = BeautifulSoup(responsepuesto.text, 'html.parser')\n",
    "titulo1 = souppuesto.find_all(\"title\")[0].text\n",
    "descripcion1 = souppuesto.find_all(\"div\", {\"class\": \"aviso_description\"})[0].text"
   ]
  },
  {
   "cell_type": "code",
   "execution_count": 55,
   "metadata": {},
   "outputs": [
    {
     "data": {
      "text/plain": [
       "'PRACTICANTE COMERCIAL, en Tupemesa - septiembre 2019 - bumeran.com.pe'"
      ]
     },
     "execution_count": 55,
     "metadata": {},
     "output_type": "execute_result"
    }
   ],
   "source": [
    "titulo1"
   ]
  },
  {
   "cell_type": "code",
   "execution_count": 56,
   "metadata": {
    "scrolled": true
   },
   "outputs": [
    {
     "data": {
      "text/plain": [
       "'  TUPEMESA, empresa fabricante de productos y soluciones de acero, se encuentra en la búsqueda del mejor talento para ocupar la posición de: PRACTICANTE COMERCIAL. FUNCIONESRegistro de información de seguimiento de ventas.Análisis de datos relacionados a los productos del área.Apoyo en la elaboración de proyecciones de ventas.Manejo de base de datos.Apoyo en la elaboración de propuesta de mejora.Apoyar en la presentación de reportes a gerencia comercial.Coordinar con demás áreas involucradas en el proceso comercial. REQUISITOSCarrera de Ingeniería Industrial, Administración de Empresas, Ing. Empresarial y/o afines.Manejo de Excel y Power Point.Conocimiento de proceso de Supply Chain y planeamiento.Experiencia de 6 meses en posiciones similares.Deseable en labores de gestion administrativa, contacto con fuerza de ventas o funciones similaresDisponibilidad para laborar en Lurin.  BENEFICIOSSubvención económica mensual.Seguro FOLA.Bus de acercamiento.Alimentación subvencionada al 100%       El contenido de este aviso es de propiedad del anunciante. Los requisitos de la posición son definidos y administrados por el anunciante sin que Bumeran sea responsable por ello.    '"
      ]
     },
     "execution_count": 56,
     "metadata": {},
     "output_type": "execute_result"
    }
   ],
   "source": [
    "diclimpiar = {\"\\xa0\":\" \",\"\\n\":\" \",\"\\t\":\" \"}\n",
    "for k,y in diclimpiar.items():\n",
    "    descripcion1 = descripcion1.replace(k,y)\n",
    "descripcion1"
   ]
  },
  {
   "cell_type": "code",
   "execution_count": 57,
   "metadata": {},
   "outputs": [],
   "source": [
    "for i in lista2:\n",
    "    urlpuesto = inicio + i\n",
    "    responsepuesto = requests.get(urlpuesto)\n",
    "    souppuesto = BeautifulSoup(responsepuesto.text, 'html.parser')\n",
    "    data.append([\"\",\"\"])\n",
    "    data[-1][0] = souppuesto.find_all(\"title\")[0].text\n",
    "    data[-1][1] = souppuesto.find_all(\"div\", {\"class\": \"aviso_description\"})[0].text\n",
    "    for k,y in diclimpiar.items():\n",
    "        data[-1][1] = data[-1][1].replace(k,y)"
   ]
  },
  {
   "cell_type": "code",
   "execution_count": 58,
   "metadata": {},
   "outputs": [
    {
     "data": {
      "text/plain": [
       "[['PRACTICANTE COMERCIAL, en Tupemesa - septiembre 2019 - bumeran.com.pe',\n",
       "  '  TUPEMESA, empresa fabricante de productos y soluciones de acero, se encuentra en la búsqueda del mejor talento para ocupar la posición de: PRACTICANTE COMERCIAL. FUNCIONESRegistro de información de seguimiento de ventas.Análisis de datos relacionados a los productos del área.Apoyo en la elaboración de proyecciones de ventas.Manejo de base de datos.Apoyo en la elaboración de propuesta de mejora.Apoyar en la presentación de reportes a gerencia comercial.Coordinar con demás áreas involucradas en el proceso comercial. REQUISITOSCarrera de Ingeniería Industrial, Administración de Empresas, Ing. Empresarial y/o afines.Manejo de Excel y Power Point.Conocimiento de proceso de Supply Chain y planeamiento.Experiencia de 6 meses en posiciones similares.Deseable en labores de gestion administrativa, contacto con fuerza de ventas o funciones similaresDisponibilidad para laborar en Lurin.  BENEFICIOSSubvención económica mensual.Seguro FOLA.Bus de acercamiento.Alimentación subvencionada al 100%       El contenido de este aviso es de propiedad del anunciante. Los requisitos de la posición son definidos y administrados por el anunciante sin que Bumeran sea responsable por ello.    '],\n",
       " ['Practicante Comercial, en Supermercados Peruanos S.A. - septiembre 2019 - bumeran.com.pe',\n",
       "  ' Supermercados Peruanos, empresa que fomenta y respeta, en sus procesos de reclutamiento y selección, la igualdad de género, la inclusión y la diversidad, perteneciente al grupo Intercorp, líder en el rubro retail y tercer puesto en el Great Place to Work, se encuentra en búsqueda del mejor talento profesional para asumir el reto de: PRACTICANTE COMERCIAL Funciones principales: *  Apoyar en la administración de las herramientas de gestión, así como el mantenimiento de la data relevante para la gestión de la categoría.*  Brindar soporte en la negociación con proveedores.*  Realizar el análisis de información comparativa entre producto, ventas y comportamiento del mercado.*  Elaborar los formatos de cambios de precios, promociones, entre otros.*  Realizar otras funciones asignadas por el jefe inmediato.  Requisitos: *  Estudiante de Administración o Ingeniería Industrial desde el 7mo,8vo semestre o 9no semestre (año de egreso sea el 2020). *  Experiencia mínima de 3 meses como Practicante (necesario).*  Manejo de Excel a nivel Intermedio-Avanzado.* Manejo de inglés a nivel básico. Beneficios: *  Subvención económica, de acuerdo a ley.*  Seguro médico de practicante.*  Incorporarse al segundo empleador más grande del país, mediante contrato indeterminado.*  Beneficios corporativos especiales.     El contenido de este aviso es de propiedad del anunciante. Los requisitos de la posición son definidos y administrados por el anunciante sin que Bumeran sea responsable por ello.    '],\n",
       " ['Practicante Comercial, en Talma Servicios Aeroportuarios - septiembre 2019 - bumeran.com.pe',\n",
       "  ' Talma, empresa líder en servicios aeroportuarios, con presencia en Perú, México, Ecuador y Colombia, se encuentra en la búsqueda de 01 PRACTICANTE PROFESIONAL DE COMERCIAL.FUNCIONES:Apoyar en el control de pagos de servicios charters y nuevos servicios. Apoyar en la elaboración de estadísticas del área Comercial de Aeropuerto. Apoyar en el control de vencimiento y obligaciones de los contratos. ·         Cargar los contratos firmados en la plataforma. SE OFRECE:Sueldo de S/. 1200 por convenio de prácticasCobertura de alimentación al 100%Seguro FOLAPertenecer a un gran equipo de trabajoBuen clima laboral. REQUISITOS: Egresados de la carrera de Ing. Industrial, Finanzas, Administración o carreras afines.Inglés intermedio.Office nivel Avanzado.“Cabe informar que el postulante afirma su consentimiento y autorización del uso de sus datos personales expuestos en su CV, dentro del marco de la Ley de Protección de Datos Personales N° 29733, para fines únicamente de postulación con la organización, este registro se deriva al área de RRHH y se conservará durante un plazo máximo de 6 meses, posterior al proceso de selección”. “De acuerdo a la ley N° 29973, reglamento N° 107-2015-MIMP y normas complementarias, se reciben también postulaciones de personas con discapacidad, debidamente acreditadas y certificadas, a fin de ser evaluadas según la descripción del puesto. “     El contenido de este aviso es de propiedad del anunciante. Los requisitos de la posición son definidos y administrados por el anunciante sin que Bumeran sea responsable por ello.    '],\n",
       " ['Practicante Comercial , en Interseguro Compañía de Seguros S.A. - septiembre 2019 - bumeran.com.pe',\n",
       "  ' Somos la Compañía de Seguros del Grupo Intercorp, líder en Rentas Vitalicias, nuestra principal línea de negocio, y con un crecimiento sostenido en nuestras otras líneas. Nuestro claro enfoque y sólida estrategia de inversión nos han llevado a obtener consistentemente la rentabilidad más alta del sistema asegurador peruano. Además, lo más importante para nosotros son nuestros colaboradores, por lo cual desarrollamos activamente iniciativas que promuevan el buen clima laboral. Como consecuencia de ello, el último año, hemos sido calificados como una de las mejores compañías “Great Place to Work” a nivel de Perú y Latinoamérica. Nos encontramos en búsqueda de unx Practicante Comercial, quien cumpla con el siguiente perfil: Requisitos:Estudiantes de la carrera de Administración, Ingeniería Industrial o Afines.De preferencia con seis meses de experiencia en prácticas preprofesionales (No indispensable) Con manejo de herramientas office nivel intermedio y Excel avanzado. Funciones: Generación reporte de Producción del canal.Control y revisión de Ratios de Renovación.Estadísticas del canal.Seguimiento a temas operativos y legales propios del canal.Seguimiento a canales (problemas en las ventas, reclamos, etc).Actualización de manuales y políticas.Actividades de Integración.Control de Vacaciones.Asignación y registro de Facturas   Beneficios:Capacitación constante.Excelente clima laboral para trabajar.Diversas actividades de salud y bienestar a favor del colaborador.     El contenido de este aviso es de propiedad del anunciante. Los requisitos de la posición son definidos y administrados por el anunciante sin que Bumeran sea responsable por ello.    '],\n",
       " ['Practicante Comercial, en Nexa Resources - agosto 2019 - bumeran.com.pe',\n",
       "  ' Somos una empresa minera global, que vela por el Coraje, el Entusiasmo y la Inteligencia en nuestras relaciones. Valoramos a las personas y creemos en el poder de la Diversidad e Inclusión. ¡Construye tu futuro con nosotros!  Nos encontramos en búsqueda de PRACTICANTE COMERCIAL para el área de Concentrados.Requisitos: Carrera de Ingeniería Industrial/Administración de Empresas y afines.Inglés fluente.Conocimiento de SAP R3 (diferencial)Conocimiento profesional en Excel y Power Point-Necesario.Conocimiento de proceso de Supply Chain y planeamiento.Desafíos y responsabilidades:  Actuar de forma activa en la prevención de condiciones inseguras dentro y fuera de la oficina.Analizar y preparar el forecast de demanda y oferta de concentrados.Validar programa semanal despachos.Seguimiento de pedidos en tránsito.Gestión de stocks.Creación de indicadores de performance.Reporte semanal      El contenido de este aviso es de propiedad del anunciante. Los requisitos de la posición son definidos y administrados por el anunciante sin que Bumeran sea responsable por ello.    '],\n",
       " ['Practicante Comercial, en Confidencial - septiembre 2019 - bumeran.com.pe',\n",
       "  '  Importante empresa  Trasnacional,  Requiere incorporar a su Staff, un: PRACTICANTE  COMERCIAL  Funciones:  ü  Soporte a los puntos de venta (Canal Moderno).ü  Coordinación permanente con tiendas.ü  Brindar   soporte administrativo y operacional a las labores del área.ü  Administrar  datos que agreguen valor a la gestión de asistencia a  las tiendas /canal moderno.ü  Analizar los reportes de venta a fin de generar valor agregado al área. ü  Asistencia con materiales para capacitaciones.ü  Soporte en el desarrollo del canal E-commerce.ü  Otras Coordinaciones y análisis requeridas por la operación. Formación  Académica : ü  Cursando Carrera Universitaria. Marketing, Ingeniería Industrial, Ingeniería comercial, administración o similar, a partir del octavo ciclo.ü  Indispensable manejo avanzado de  Excel.ü  Deseable Experiencia previa en ventas, marketing o desarrollo comercial.ü  Inglés nivel avanzado Competencias:ü  Capacidad de planeamiento y organizaciónü  Comunicación Efectiva.ü  Habilidad para realizar presentaciones.ü  Habilidad demostrada para manejar diferentes tareas simultáneamente.ü  Auto-motivación  para conseguir objetivos y finalizar tareas. Beneficios :ü  Pertenecer a una importante empresa transnacional.ü  Oportunidad de hacer Línea de carrera.ü  Capacitación permanente.ü  Buen ambiente de trabajo.         El contenido de este aviso es de propiedad del anunciante. Los requisitos de la posición son definidos y administrados por el anunciante sin que Bumeran sea responsable por ello.    '],\n",
       " ['Practicante Profesional Comercial, en BITEL - septiembre 2019 - bumeran.com.pe',\n",
       "  ' Bitel, es el nuevo operador de telefonía y forma parte del Holding  Viettel Group. Una de las empresas de telecomunicaciones de mayor crecimiento a nivel mundial. Identificado por su capacidad de innovación y  por brindar internet de calidad a todos sus usuarios.Se encuentra en la búsqueda de un: Practicante Profesional Comercial Requisitos:Profesional Universitario de las carreras de Administración, Negocios y afines.Inglés intermedio (Indispensable)Microsoft Office nivel Intermedio.Experiencia en áreas comerciales.Interés en tecnología y telecomunicaciones Funciones:Apoyo en el monitoreo de las ventas en los diversos canales.Impulsar las ventas en los diversos canales.Apoyo en el análisis de los precios en el mercado. Condiciones:Atractiva posibilidad de línea de carrera profesional acorde a desempeño.Beneficios de LeySeguro de practicanteConvenio de prácticas.     El contenido de este aviso es de propiedad del anunciante. Los requisitos de la posición son definidos y administrados por el anunciante sin que Bumeran sea responsable por ello.    '],\n",
       " ['Practicante Profesional - Comercial, en MOTRIZA SA. - agosto 2019 - bumeran.com.pe',\n",
       "  ' Practicante Profesional - ComercialNos encontramos en la búsqueda de un practicante profesional para el área comercial con ambición de crecimiento profesional y personal, que desee pertenecer a una empresa Ferreycorp, líder en el mercado. Requisitos: Estudio universitario de la carrera de Ingeniera Industrial y/o Administración.Conocimiento básico en gestión comercial.Manejo de herramientas MS Office a nivel intermedio / avanzado.Manejo de Excel Avanzado – Formulas FinancierasDisponibilidad para laborar de lunes a viernes en la sede de Lima.Brindar una excelente actitud de servicio a clientes y proveedores. Funciones de puesto:Asistir al área comercial.Actualizar data comercial y mantenerte actualizada la base de datos (stock, estructura de precios).Apoyo en la realización de presentación de ventas u otras presentaciones corporativas.Efectuar reportes de resultados de ventas, rentabilidad de las líneas.Elaboración de informes mensuales de principales KPIS.Atender los requerimientos de su jefe inmediato.  Beneficios: Subvención Económica: S/ 930.00Convenios de Practicas más seguro fola.Buen ambiente de trabajo.Pertenecer a la corporación Ferreyrcop.     El contenido de este aviso es de propiedad del anunciante. Los requisitos de la posición son definidos y administrados por el anunciante sin que Bumeran sea responsable por ello.    '],\n",
       " ['PRACTICANTE  PROFESIONAL AREA COMERCIAL, en HOUSEMART PERU S.A.C. - agosto 2019 - bumeran.com.pe',\n",
       "  ' Housemart Peru empresa importadora de acabados para la construcción, y productos varios, miembro del importante grupo transnacional SUNDA INTERNATIONAL con operaciones en el Perú desde hace más de 11 años, está en la búsqueda de la  posición: PRACTICANTE PROFESIONAL DEL AREA COMERCIAL.Perfil de requerido:Egresados de la carrera universitaria de Administracion, Ciencias de la Comunicación, Negocios Internacional o afines.Disponibilidad para trabajar en Lima norte  - Comas.Deseable experiencia en practicas en ventas o área comercial en general.Facilidad para coordinar con diferentes áreasCompetencias requeridas: alto nivel de proactividad, iniciativa, versatibilidad, comunicación asertiva, sociable, y alto nivel de inteligencia emocional. OFRECEMOS:- Ampliar experiencia en el campo comercial y administrativo.- Ingreso a planillas desde el primer dia laboral.- Beneficios cubiertos al 100%- Garantizado línea de carrera.- Almuerzo cubierto al 100%- Sueldo de acuerdo al promedio.     El contenido de este aviso es de propiedad del anunciante. Los requisitos de la posición son definidos y administrados por el anunciante sin que Bumeran sea responsable por ello.    '],\n",
       " ['Practicante Profesional - Comercial, en MODASA - septiembre 2019 - bumeran.com.pe',\n",
       "  ' PRACTICANTE PROFESIONAL COMERCIALMODASA, importante empresa metalmecánica, por incremento de sus actividades  se encuentra en la búsqueda de un profesional para cubrir la vacante de PRACTICANTE PROFESIONAL COMERCIAL, que cumpla con el siguiente perfil:  Perfil:Estudiantes de los últimos ciclos de las carreras universitarias de Administración, Ing. Mecànica, Ingeniería Industrial o afines.De preferencia experiencia de 6 meses realizando funciones afines al àrea Comercial.De preferencia contar con experiencia en trato con clientes, ventas.Conocimiento de Excel a nivel intermedio.Disponibilidad para prácticas en Ate Vitarte. Funciones Principales:Apoyo en la representación la marca fomentando el posicionamiento de nuestros productos.Identificar a clientes potenciales mediante el estudio de mercado.Mantener y actualizar Y dividir la cartera de clientes.Informar y sustentar a los clientes sobre las ventajas competitivas.Cumplir las metas establecidas por la gerencia.Seguimiento al cliente para la entrega oportuna de la documentación solicitada por las entidades financieras para aprobación de crédito.Seguimiento del proceso de fabricación coordinando las fechas de entrega con Ingeniería de ventas.Facilitar el nexo entre los clientes y las diversas áreas de soporte: Postventa, Finanzas y Legal.  Ofrecemos:Subvención de alimentos al 100%Subvención económica de acuerdo al convenio de prácticas.Desarrollo profesional.Capacitaciones constantes.        El contenido de este aviso es de propiedad del anunciante. Los requisitos de la posición son definidos y administrados por el anunciante sin que Bumeran sea responsable por ello.    '],\n",
       " ['Practicante Profesional Área Comercial, en CIDELSA - septiembre 2019 - bumeran.com.pe',\n",
       "  ' Comercial Industrial Delta S.A., empresa con más de 50 años en el mercado en la producción industrial se encuentra en la búsqueda de: 1 Practicante Profesional del área Comercial.  REQUISITOS:*Poseer carrera técnica en Administración Industrial, afines. *Haber culminado su carrera en 2018.*Manejo de Office Nivel Básico.*Experiencia laboral de 6 meses en empresas industriales, de construcción, transporte o afines (Deseable).*Disponibilidad para laborar en SAN JUAN DE MIRAFLORES de LUNES A VIERNES. Horario: 08:00 a.m. - 06:15 p.m. *Capacidad de aprendizaje y comunicación asertiva.*Leer e interpretar planos e ilustraciones tecnicas de los productos de la empresa. FUNCIONESApoyar al área comercial recepcionando y derivando información dada por el área de operaciones. Asistir a capacitaciones internas sobre los nuevos productos de la empresa.Realizar investigación de potenciales clientes o interesados en los productos.Acompañar a un Ingeniero/Arquitecto en las visitas y presentación de los productos de la empresa a clientes potenciales.Actualizar el control e inventario de los productos asignados, según información del área de almacén. Recopilar información para presentaciones de valorización de proyectos. SE OFRECE:* TODOS LOS BENEFICIOS DE LEY*Vínculo laboral mediante Convenio de Prácticas Profesionales.*Remuneración S/. 1100.00 mensuales.*Grato Ambiente Laboral.*Línea de carrera.*Convenios educativos.     El contenido de este aviso es de propiedad del anunciante. Los requisitos de la posición son definidos y administrados por el anunciante sin que Bumeran sea responsable por ello.    '],\n",
       " ['Practicante Profesional Comercial Envasado, en CORPORACIÓN PRIMAX S.A. - septiembre 2019 - bumeran.com.pe',\n",
       "  ' ¡Es tu oportunidad! Si quieres pertenecer al Grupo Primax (Primax Gas) y formar parte de un equipo lleno de energía y pasión, te invitamos a postular a la posición de Practicante de Marketing donde realizarás las siguientes funciones:  Apoyo en el soporte comercial a los ejecutivos de ventas.Apoyo en la gestión de permisos y autorizaciones que requiera el área.Apoyo en la gestión de permisos y requisitos para la habilitación de locales de ventas y unidades vehiculares.Apoyo en la gestión de pólizas para locales de venta y unidades vehicularesApoyo en el seteo de precios.Apoyo en el control de activos (cilindros) e indicadores de planta. Requisitos:Egresados o Bachiller de las carreras de Administración de Empresas o Ingeniería Industrial.Excel a nivel intermedio.Conocimientos es SAP (Deseable).Experiencia previa de 6 meses en el área Comercial o Administrativa.      El contenido de este aviso es de propiedad del anunciante. Los requisitos de la posición son definidos y administrados por el anunciante sin que Bumeran sea responsable por ello.    '],\n",
       " ['Practicante Comercial - Ventas, en Trupal S.A - agosto 2019 - bumeran.com.pe',\n",
       "  ' Somos líderes en el mercado dedicada a la fabricación de papeles, cartones corrugados, cajas y empaques flexibles. Como parte de nuestro plan de crecimiento nos encontramos en búsqueda del mejor talento para ocupar la posición de:  Practicante Profesional - Comercial  REQUISITOS:* Jóvenes Recién Egresado de las carreras universitarias de Ing. Industrial, Ing. Alimentaria. Ing. Agroindustrial, Administración de Empresas ó de Negocios Internacionales. Periodo 2018-II Ó 2019 - I (INDISPENSABLE)* Interés en desarrollarse en el área Comercial para nuestra Unidad de Negocio en Cajas y Cartones.  * De preferencia con experiencia mínima de 6 meses (NO EXCLUYENTE)* Manejo de excel nivel Intermedio - Avanzado. * Disponibilidad para trabajar los sábados y en Huachipa. * Horarios: Lunes a Viernes de 7am a 4:30pm. Sábados de 7am a 11am.  FUNCIONES:- Apoyo en el seguimiento a los pedidos de producción para nuestros principales clientes. - Facturaciones, emisión de boletas. Entrega y despacho de las solicitudes por los clientes.  - Atención a reclamos, pedidos y sugerencias.-  Apoyo en elaboración y sustento de informes de ventas. Seguimiento a clientes, registro y entrega de sus productos. -  Entre otras funciones acorde al área y unidad asignada.  BENEFICIOS: ·         Convenio Anual de Prácticas Profesionales. ·         Remuneración atractiva.·         Seguro de Salud cubierta al 100%·         Movilidad ida y vuelta (Huachipa)·         Posibilidad de Línea de Carrera    ¨TRUPAL S.A. no solicita ningún tipo de pago o abono para participar en los procesos de reclutamiento y selección, ni en ninguna etapa del mismo (como referencias o verificaciones laborales). Somos una empresa incluyente, que respeta la diversidad y no hace ningún tipo de discriminación.     El contenido de este aviso es de propiedad del anunciante. Los requisitos de la posición son definidos y administrados por el anunciante sin que Bumeran sea responsable por ello.    '],\n",
       " ['Practicante de Inteligencia Comercial , en LUCKY S.A.C - septiembre 2019 - bumeran.com.pe',\n",
       "  '  ¡Únete a una de las mejores empresas para trabajar en Perú! LUCKY.- Somos  el grupo empresarial líder en servicios integrales de promoción, soporte en la gestión del punto de venta e información activa de marketing en el Perú. Nos encontramos en la búsqueda de personas talentosas como tú que puedan integrarse a nuestra gran familia en la posición de:                                          PRACTICANTE DE INDICADORES COMERCIALES ¿Qué funciones realizarás?- Brindarás soporte en la evaluación de producción.- Apoyarás en el manejo los indicadores estadísticos y métricas.- Manejarás la herramienta de Power BI.  ¿Qué requisitos debes cumplir?- Ser estudiante de los últimos ciclos de las carreras de Economía, Ing. Industrial, Ing. Sistemas, Estadística o afines (turno noche).- Tener experiencia en el área manejando indicadores (Deseable).- Manejar excel Intermedio - Avanzado, grabación en Macros, tablas dinámicas, funciones, etc (Indispensable).- Maneja la herramienta Power BI (deseable) ¿Qué ofrecemos?- Convenio de prácticas- Remuneración acorde al mercado- Excelente clima laboral- Crecimiento constante y línea de carrera Si quieres formar parte de una cultura basada en el buen humor, pasión y compromiso, ¿Qué esperas? ¡Postula con nosotros y empieza a crear tu propia historia!         ¡Juntos seguiremos siendo la empresa más admirada del sector! Ven y vive la experiencia LUCKY!     El contenido de este aviso es de propiedad del anunciante. Los requisitos de la posición son definidos y administrados por el anunciante sin que Bumeran sea responsable por ello.    '],\n",
       " ['Practicante de Inteligencia Comercial, en Banco de Comercio - septiembre 2019 - bumeran.com.pe',\n",
       "  ' Somos una entidad financiera de capitales peruanos enfocada en negocios de Banca Personal y Banca Empresa. Nos encontramos en la búsqueda de 1 Practicante de Inteligencia Comercial para que forme parte de nuestro equipo de Marketing. Requisitos:Estudiante de los últimos  ciclos de las carreras Economía, Estadística, Ing. Industrial o Ing. Sistemas. Uso de herramientas de MS Office a nivel Experto (Excel, PowerPoint, Word, Access).Conocimientos a nivel intermedio en SQL Server, QlikView(Deseable).Conocimientos básicos de algoritmos y programación(Deseable). Funciones: ü  Velar por los cumplimientos de desarrollo y ejecución de los proyectos.ü  Apoyo en la creación de Campañas de CRM de todos los productos.ü  Monitorear y controlar el Programa de Fidelización.ü  Atender las solicitudes del Cliente Interno en el tiempo establecido. Ofrecemos:Convenio de Practicas.Seguro particular cubierto al 100%.Grato ambiente laboral.Oportunidad de desarrollo.      El contenido de este aviso es de propiedad del anunciante. Los requisitos de la posición son definidos y administrados por el anunciante sin que Bumeran sea responsable por ello.    '],\n",
       " ['PRACTICANTE COMERCIAL - CANAL SUDAMÉRICA, en Ceramica Lima S.A. - septiembre 2019 - bumeran.com.pe',\n",
       "  ' La empresa Celima Trébol se encuentra en la búsqueda de PRACTICANTE COMERCIAL - CENTROAMERICA que cumpla con lo siguiente:Requisitos:- Estudiante universitario de las carreras de Administración, Economía, Ing. Industrial, Negociones Internacionales.- Manejo de sofware: Office avanzado, excel (habilidades en fórmulas).- Idiomas: Inglés intermedio Funciones:- Seguimiento en la gestión de las órdenes de compra de los clientes en SAP.- Apoyo en las coordinaciones con Comex para el despacho de las órdenes de compra.- Enviar muestras de productos Celima Trébol a clientes actuales y potenciales.- Seguimiento de los pedidos de venta en los diferentes sistemas de información (SAP, diario de ventas, etc).- Apoyo en el envío de estados de cuenta a los clientes y coordinar con Finanzas la aplicación de pagos de facturas.- Atender requerimientos y consultas de clientes internos y clientes externos. Horario de trabajo: 30 horas a la semanaLugar de trabajo: Surquillo      El contenido de este aviso es de propiedad del anunciante. Los requisitos de la posición son definidos y administrados por el anunciante sin que Bumeran sea responsable por ello.    '],\n",
       " ['Practicante Comercial - Marcas Propias, en Tai Loy S. A. - agosto 2019 - bumeran.com.pe',\n",
       "  ' TAI LOY, empresa líder en la distribución de útiles escolares, artículos de oficina, juguetería con más de 53 años de participación en el mercado y continuo crecimiento requiere para su campaña: PRACTICANTE COMERCIAL DE MARCAS PROPIAS Quien se encargará de apoyo a la Unidad de Negocios de Marcas Propias & Exclusivas con el correcto abastecimiento de SKUs a Tiendas y Centros de Distribución, así como también realizar un análisis permanente de ventas, rentabilidad y stock saludable. Responsabilidades: -          Generación y Análisis de Reportes de Ventas, Stock y Price Index-          Abastecimiento a Tiendas y Centros de Distribucion-          Revision de Pedidos por atender a clientes-          Transferencias entre CDs y Tiendas-          Codificación de nuevos SKUs-          Deteccion de stocks inmovilizados-          Catalogación de SKUs a Tiendas y CDs-          Generación de OC a proveedores Requisitos: -          Estudiante universitario de Ing. Industrial, Administración-          Deseable experiencia realizando funciones semejantes por 1 año.-          Inglés a nivel Intermedio.-          Excel a nivel Intermedio (Tablas Dinámicas).-          SAP a nivel básico (deseable).     El contenido de este aviso es de propiedad del anunciante. Los requisitos de la posición son definidos y administrados por el anunciante sin que Bumeran sea responsable por ello.    '],\n",
       " ['Practicante para el Área Comercial, en BSG INSTITUTE - septiembre 2019 - bumeran.com.pe',\n",
       "  ' Empresa dedicada al rubro educativo , con sedes en latinoamerica y dedicada a la comercialización de capacitaciones y consultoria se encuentra en busqueda de Practicante comercial: Beneficios: Remuneracion S/ 1000 Convenio de practicas profesionales Requisitos: Egresadas de administración, comercial , Ing IndustrialTener entre 22 a 26 añosTener disponibilidad inmediata y de tiempo completo FuncionesManejo de KPISManejo de reportes de seguimiento Realizar evaluaciones cualitativas semanales  Si cumples con el perfil indicados te invitamos a postular     El contenido de este aviso es de propiedad del anunciante. Los requisitos de la posición son definidos y administrados por el anunciante sin que Bumeran sea responsable por ello.    '],\n",
       " ['Área Comercial | Prácticas Ingeniería Industrial, en Cartones del Pacífico  - septiembre 2019 - bumeran.com.pe',\n",
       "  ' La empresa Cartones del Pacífico se encuentra en la búsqueda de Practicantes Pre Profesionales de 8vo, 9no y 10mo ciclo y/o Practicantes Profesionales. Requisitos: Estudios universitarios en Ingeniería Industrial, carreras afinesInterés en conocer y especializarse en el sector Industrialominio de Microsoft Excel Realizará:Realizar las aprobaciones de Fichas Técnicas de los productosAnálisis de requerimientos del área ComercialProponer soluciones de manterial y procesos para hacer la operación en planta eficiente y precisaColaborar con tareas y proyectos del área Beneficios:Subvención superior al mercadoSe cubrirá gastos de movilidad, por las gestiones a realizarSeguro médico Oportunidad de Línea de carreraBuen clima laboral Competencias:IniciativaCompromisoConducción de Personas/LiderazgoCapacidad de planificaciónPensamiento AnalíticoInfluencia y NegociaciónOrientación al cliente      El contenido de este aviso es de propiedad del anunciante. Los requisitos de la posición son definidos y administrados por el anunciante sin que Bumeran sea responsable por ello.    '],\n",
       " ['Practicante de Inteligencia Comercial-Financiera Efectiva, en GRUPO EFE - septiembre 2019 - bumeran.com.pe',\n",
       "  '  Practicante de  Inteligencia Comercial-Financiera Efectiva  Nos encontramos en búsqueda de  Practicante de Inteligencia Comercial para brindar soporte en la generación y automatización de reportes. Funciones:·         Revisión de procesos.·         Extracción de información.·         Asistencia en la carga de bases maestras. Requisitos:·         Estudiantes a partir del 8° ciclo de Ingeniería de Sistemas o carreras afines.·         Conocimiento de Excel a nivel avanzado.·         Conocimiento de SQL y herramientas ETL Ofrecemos:  ·         Certificado de prácticas.·         Remuneración S/ 930        El contenido de este aviso es de propiedad del anunciante. Los requisitos de la posición son definidos y administrados por el anunciante sin que Bumeran sea responsable por ello.    '],\n",
       " ['Practicante del área comercial - Ad Honorem, en BETTER CLEAN SAC - septiembre 2019 - bumeran.com.pe',\n",
       "  ' Empresa de servicios solicita señorita estudiante de carrera de administración, comercial o carrera a fines.REQUISITOS:Estudiante de los últimos ciclos de la Carrera administración, industrial, gestión comercial, marketing, o a fines. (instituto o universidad)Manejo de Microsoft OfficeINDISPENSABLE residir Lima Norte, de preferencia en el distrito de Los Olivos, SMP y comas.Con ganas de adquirir experiencia, esta es tu oportunidad. (manejo de habilidades blandas)NO ES NECESARIO TENER EXPERIENCIAFUNCIONES:Conseguir nuevos clientes a través de envíos de información, visitas, llamadas telefónicas y envío de cartas comerciales.Responder cotización en base a requerimiento del cliente.Ejecutar cierre de ventas.Seguimiento a los clientes. SE OFRECE:Monitoreo constante de la documentación requerida por su institución para sus prácticas.Constancia de Practicas Pre-ProfesionalesPosibilidad de contrato de acuerdo al cumplimiento del objetivoLínea de carrera.Referencias Laborales.Agradable Clima laboralPrácticas: Ad Honorem (a partir del 4to mes se les dará un bono de pasajes)Al finalizar sus prácticas se les entregara un bono al practicante más productivoTIPO DE PUESTO: Medio tiempo, Beca / prácticas – Contrato por 6 meses.(Turno mañana: 8:30 am - 12:30pm; turno tarde 2:00 pm – 6:00 pm) DE LUNES A VIERNESVACANTES: 6     El contenido de este aviso es de propiedad del anunciante. Los requisitos de la posición son definidos y administrados por el anunciante sin que Bumeran sea responsable por ello.    '],\n",
       " ['Practicante Pre Profesional - Profesional | Área Comercial, en Cartones del Pacífico  - agosto 2019 - bumeran.com.pe',\n",
       "  ' La empresa Cartones del Pacífico se encuentra en la búsqueda de Practicantes Pre Profesionales de 10mo ciclo y/o Practicantes Profesionales, para incorporarse al área Comercial. Requisitos: • Estudios universitarios en Ingeniería Industrial, Administración y carreras afines• Interés por desarrollarse en el área Comercial• Interés en conocer y especializarse en el sector Industrial• Dominio de Microsoft Excel Realizará:• Participación en Proyectos Comerciales.• Desarrollar investigaciones del progreso histórico de las ventas por sector.• Proponer reportes para la ejecución de los KPIs.• Soporte en las gestiones que delegue el Gerente Comercial• Participación en Proyectos de mejora en el Área Comercial• Participar en proceso de negociación de ventas.• Apoyar en el desarrollo del plan Comercial para la ampliación de nuevos clientes.• Otras que se considere. Beneficios:• Subvención superior al mercado• Se cubrirá gastos de movilidad, por las gestiones a realizar• Seguro médico • Oportunidad de Línea de carrera• Buen clima laboral Competencias:• Iniciativa• Compromiso• Conducción de Personas/Liderazgo• Capacidad de planificación• Pensamiento Analítico• Influencia y Negociación• Orientación al cliente      El contenido de este aviso es de propiedad del anunciante. Los requisitos de la posición son definidos y administrados por el anunciante sin que Bumeran sea responsable por ello.    '],\n",
       " ['PRACTICANTE PROFESIONAL PARA LA GERENCIA COMERCIAL, en ADINELSA - septiembre 2019 - bumeran.com.pe',\n",
       "  ' Como parte de nuestro crecimiento institucional nos encontramos en búsqueda del mejor talento para ocupar la posición de Practicante Profesional para la Gerencia Comercial de la Empresa de Administración de Infraestructura Eléctrica S.A.¡Te invitamos a formar parte de nuestro equipo!Las actividades a desarrollar son:Apoyo en la gestión de conexiones a usuarios finales en BT y MT.Apoyo en la gestión de información de indicadores de la Gerencia Comercial.Apoyo en la gestión de evaluación de gastos de operadores.*Convenio de prácticas 3 meses renovable.a) Requisitos:Tener la condición mínima de egresado de las carreras de Ingeniería Eléctrica o Mecánica Eléctrica y pertenecer al tercio superior.De preferencia haber realizado prácticas pre-profesionales en el sector eléctrico (No excluyente).Conocimiento intermedio de Excel y Word.b) Beneficios:Servicio de movilidad (Ruta desde las 7:00 am)Seguro FOLA.Alimentación cubierta (almuerzo)Lugar de Trabajo: San Juan de Miraflores, Lima.Horario: De lunes a viernes, de 08:00 a 17:30 horas Subvención económica: S/1,200.00        El contenido de este aviso es de propiedad del anunciante. Los requisitos de la posición son definidos y administrados por el anunciante sin que Bumeran sea responsable por ello.    '],\n",
       " ['Practicante Pre Profesional Comercial GP (COD: 10914112), en ADECCO PERÚ S.A - septiembre 2019 - bumeran.com.pe',\n",
       "  ' Por encargo de nuestro cliente, la empresa Siemens, nos encontramos en la búsqueda de un practicante Pre Profesional ComercialObjetivo General del Puesto:Brindar apoyo al área Comercial de TPFunciones del puesto:• Revisión de transitorias y otras cuentas de balance.• Conformidades de OC´s, seguimiento a las compras (solicitud correcta de equipos y accesorios)• Grabar pedidos, facturar pedidos, consultar por conformidades de clientes, monitorear cobranzas.• Control y seguimiento de cartas fianzas.• Apoyo en control y administración de actividades comerciales (envío de cartas, inventarios, reporte de operaciones con no domiciliados).Requerimientos para la posición:• Estudiante de las carreras de Administración, contabilidad o afines• Inglés intermedio – avanzado• Microsoft Office intermedio – avanzado• Conocimiento básico de procesos contables y tributarios.• Proactividad y buena actitud.     El contenido de este aviso es de propiedad del anunciante. Los requisitos de la posición son definidos y administrados por el anunciante sin que Bumeran sea responsable por ello.    '],\n",
       " ['PRACTICAS - PROFESIONALES DPTO COMERCIAL Y MARKETING, en Confidencial - septiembre 2019 - bumeran.com.pe',\n",
       "  ' EMPRESA EXTRANJERA, NECESITA CONTRATAR : PROFESIONALES RECIEN EGRESADOS EN FORMA INMEDIATA, PARA ESPECIALIZARSE EN LA PARTE COMERCIAL Y EJERCER DIFERENTES FUNCIONES. A MEDIDA QUE SE DESTAQUE Y SEA PROMOVIDO DE CARGO EN CORTO TIEMPO : APRENDERA DE PLANIFICACION,ORGANIZACION, DIRECCION Y CONTROL, MANEJO DE RELACIONES HUMANAS, HABILIDAD DE NEGOCIACION, EVALUACION Y SELECCION, MANEJO DE PERSONAL, MANEJO DE MANDOS MEDIOS, MARKETING, MERCADEO, PUBLICIDAD,REQUISITOS :                     ESTUDIOS CULMINADOS, BUEN NIVEL SOCIO CULTURAL, EXCELENTE IMAGEN Y                                     PRESENTACION PERSONAL, DISPONIBILIDAD INMEDIATA Y DE TIEMPO COMPLETO,                             CON O SIN EXPERIENCIA. GARANTIZAMOS :                                                                                                                                                                          CONSTANCIA DE PRACTICAS PROFESIONALES POR FUNCIONES EJERCIDAS ESTABILIDAD LABORAL Y ECONOMICA,EXCELENTE AMBIENTE DE TRABAJO,POSIBILIDAD DE TRABAJO INDEFINIDO OPORTUNIDAD DE REALIZAR VIAJES NACIONALES E INTERNACIONALES. PRESTACIONES SOCIALES,  CAPACITACION  CONSTANTE Y OPORTUNIDAD DE ASCENSOS EN CORTO TIEMPO.ENVIAR C.V PARA ENTREVISTA PERSONAL.      El contenido de este aviso es de propiedad del anunciante. Los requisitos de la posición son definidos y administrados por el anunciante sin que Bumeran sea responsable por ello.    '],\n",
       " ['Practicante Pre Profesional de Marketing - Comercial, en Inchcape Perú - septiembre 2019 - bumeran.com.pe',\n",
       "  ' Inchcape, es una empresa global con presencia en 31 países y que opera como socio estratégico de las marcas de automóviles más importantes del mundo. En Perú representa las marcas de BMW, Subaru, DFSK y BYD.Actualmente, nos encontramos en la búsqueda del mejor talento, por lo que queremos invitarte a formar parte de nuestra familia en la posición de Practicante Pre Profesional de Marketing - Comercial. Funciones: Estudios y cuadros de benchmarking. Administrar los avisos, contratos y reportes de manera ordenada en carpetasPropuestas de Merchandising.Reportes de facturación de los concesionarios. Apoyo en eventos y activaciones Requisitos: Estudiantes de los últimos ciclos de las carreras de Administración y Marketing, Comunicaciones y/o afines.Experiencia de 06 meses realizando funciones similares. Contar con conocimientos avanzados de Excel. SAP Conocimiento de manejos de base de datos. Inglés intermedio.     El contenido de este aviso es de propiedad del anunciante. Los requisitos de la posición son definidos y administrados por el anunciante sin que Bumeran sea responsable por ello.    '],\n",
       " ['PRACTICAS PRE-PROFESIONALES DPTO COMERCIAL Y MARKETING, en Confidencial - septiembre 2019 - bumeran.com.pe',\n",
       "  ' EMPRESA EXTRANJERA, NECESITA CONTRATAR DAMAS Y CABALLEROS EN FORMA INMEDIATA, PARA ESPECIALIZARSE EN LA PARTE COMERCIAL Y EJERCER DIFERENTES FUNCIONES. A MEDIDA QUE SE DESTAQUE Y SEA PROMOVIDO DE CARGO EN CORTO TIEMPO : APRENDERA DE PLANIFICACION,ORGANIZACION, DIRECCION Y CONTROL, MANEJO DE RELACIONES HUMANAS, HABILIDAD DE NEGOCIACION, EVALUACION Y SELECCION, MANEJO DE PERSONAL, MANEJO DE MANDOS MEDIOS, MARKETING, MERCADEO, PUBLICIDAD, ETC.                                                                                REQUISITOS :                                                                                                                                                                          BUEN NIVEL SOCIO CULTURAL, EXCELENTE IMAGEN Y PRESENTACION PERSONAL, DISPONIBILIDAD INMEDIATA Y DE TIEMPO COMPLETO, CON O SIN EXPERIENCIA.                                                                                                                GARANTIZAMOS :                                                                                                                                                          CONSTANCIA DE PRACTICAS PRE PROFESIONALES, POR FUNCIONES EJERCIDAS, ESTABILIDAD LABORAL Y ECONOMICA,EXCELENTE AMBIENTE DE TRABAJO,POSIBILIDAD DE TRABAJO INDEFINIDO.                                            OPORTUNIDAD DE REALIZAR VIAJES NACIONALES E INTERNACIONALES. PRESTACIONES SOCIALES,  CAPACITACION  CONSTANTE Y OPORTUNIDAD DE ASCENSOS EN CORTO TIEMPO.ENVIAR C.V PARA ENTREVISTA PERSONAL.      El contenido de este aviso es de propiedad del anunciante. Los requisitos de la posición son definidos y administrados por el anunciante sin que Bumeran sea responsable por ello.    '],\n",
       " ['Practicante Comercial, en Pricewaterhousecoopers - julio 2019 - bumeran.com.pe',\n",
       "  ' Funciones Apoyo en la elaboración y análisis de bases de datos (fines comerciales): ventas, facturación, relacionamiento, oportunidades, sector, contactos, grupo económico, entre otros.Apoyo en la elaboración y análisis por empresa y/o grupo económico, mercado, sectores, indicadores macroeconómicos, planeamiento estratégico comercial, entre otros.Apoyo en la elaboración y análisis de perfiles de clientes y/no clientes, detalle de empresa/grupo. Apoyo en la elaboración y análisis del business overview de ventas , oportunidades y  seguimiento. Apoyar y dar seguimiento al cumplimiento de KPI comerciales.  RequisitosEstudiantes de últimos ciclos de las carreras de Administración, Marketing, Economía, Ingeniería o afines.Ingles avanzadoExcel MS Office avanzadoManejo de herramientas comerciales (CRM)- Deseable     El contenido de este aviso es de propiedad del anunciante. Los requisitos de la posición son definidos y administrados por el anunciante sin que Bumeran sea responsable por ello.    '],\n",
       " ['Practicante Comercial, en Pricewaterhousecoopers - julio 2019 - bumeran.com.pe',\n",
       "  ' Funciones Apoyo en la elaboración y análisis de bases de datos (fines comerciales): ventas, facturación, relacionamiento, oportunidades, sector, contactos, grupo económico, entre otros.Apoyo en la elaboración y análisis por empresa y/o grupo económico, mercado, sectores, indicadores macroeconómicos, planeamiento estratégico comercial, entre otros.Apoyo en la elaboración y análisis de perfiles de clientes y/no clientes, detalle de empresa/grupo. Apoyo en la elaboración y análisis del business overview de ventas , oportunidades y  seguimiento. Apoyar y dar seguimiento al cumplimiento de KPI comerciales.  RequisitosEstudiantes de últimos ciclos de las carreras de Administración, Marketing, Economía, Ingeniería o afines.Ingles avanzadoExcel MS Office avanzadoManejo de herramientas comerciales (CRM)- Deseable     El contenido de este aviso es de propiedad del anunciante. Los requisitos de la posición son definidos y administrados por el anunciante sin que Bumeran sea responsable por ello.    '],\n",
       " ['Practicante Comercial, en Pricewaterhousecoopers - julio 2019 - bumeran.com.pe',\n",
       "  ' Funciones Apoyo en la elaboración y análisis de bases de datos (fines comerciales): ventas, facturación, relacionamiento, oportunidades, sector, contactos, grupo económico, entre otros.Apoyo en la elaboración y análisis por empresa y/o grupo económico, mercado, sectores, indicadores macroeconómicos, planeamiento estratégico comercial, entre otros.Apoyo en la elaboración y análisis de perfiles de clientes y/no clientes, detalle de empresa/grupo. Apoyo en la elaboración y análisis del business overview de ventas , oportunidades y  seguimiento. Apoyar y dar seguimiento al cumplimiento de KPI comerciales.  RequisitosEstudiantes de últimos ciclos de las carreras de Administración, Marketing, Economía, Ingeniería o afines.Ingles avanzadoExcel MS Office avanzadoManejo de herramientas comerciales (CRM)- Deseable     El contenido de este aviso es de propiedad del anunciante. Los requisitos de la posición son definidos y administrados por el anunciante sin que Bumeran sea responsable por ello.    '],\n",
       " ['Practicante Comercial, en Confidencial - septiembre 2019 - bumeran.com.pe',\n",
       "  ' FUNCIONES:Apoyar en la realización de análisis de la información comercial, informes de ventas diarias, análisis del presupuesto versus la venta real, análisis de costo y márgenes de productos, entre otros.Apoyar en el desarrollo y coordinar iniciativas relacionadas con la inteligencia de mercado.Apoyar en la creación de indicadores que permitan medir la ejecución correcta del negocio.Apoyar en la elaboración de los presupuestos de ventas y de gastos.Apoyar en la ejecución de las previsiones de venta y comprar de productos importados.Apoyar en la elaboración de paneles de control para medir la eficiencia de cada negocio.Apoyar en la elaboración de reportes de Ventas y Scorecard de Ejecutivos.                                                                                                                                                                              REQUISITOS:Estudios en curso de los últimos ciclos o egresado de la carrera de Ingeniería Industrial o carreras afinesExperiencia mínima de 6 meses en funciones afines Conocimientos específicos en gestión de procesos, gestión de indicadores, gestión de presupuestosIndispensable manejar Excel y Power Point a nivel avanzado      El contenido de este aviso es de propiedad del anunciante. Los requisitos de la posición son definidos y administrados por el anunciante sin que Bumeran sea responsable por ello.    '],\n",
       " ['PRACTICANTE COMERCIAL , en FOUR TIME LOGISTICS E.I.R.L. - septiembre 2019 - bumeran.com.pe',\n",
       "  ' Requerido:Estudiante del 5to a 8vo ciclo de la Escuela de Administración, o Negocios InternacionalesConocimientos de office intermedioNivel intermedio de inglesLes ligación aduaneraProactividadCompromisoPredisposición     El contenido de este aviso es de propiedad del anunciante. Los requisitos de la posición son definidos y administrados por el anunciante sin que Bumeran sea responsable por ello.    ']]"
      ]
     },
     "execution_count": 58,
     "metadata": {},
     "output_type": "execute_result"
    }
   ],
   "source": [
    "data"
   ]
  },
  {
   "cell_type": "code",
   "execution_count": 59,
   "metadata": {},
   "outputs": [],
   "source": [
    "df = pd.DataFrame(data)"
   ]
  },
  {
   "cell_type": "code",
   "execution_count": 65,
   "metadata": {},
   "outputs": [
    {
     "data": {
      "text/html": [
       "<div>\n",
       "<style scoped>\n",
       "    .dataframe tbody tr th:only-of-type {\n",
       "        vertical-align: middle;\n",
       "    }\n",
       "\n",
       "    .dataframe tbody tr th {\n",
       "        vertical-align: top;\n",
       "    }\n",
       "\n",
       "    .dataframe thead th {\n",
       "        text-align: right;\n",
       "    }\n",
       "</style>\n",
       "<table border=\"1\" class=\"dataframe\">\n",
       "  <thead>\n",
       "    <tr style=\"text-align: right;\">\n",
       "      <th></th>\n",
       "      <th>0</th>\n",
       "      <th>1</th>\n",
       "    </tr>\n",
       "  </thead>\n",
       "  <tbody>\n",
       "    <tr>\n",
       "      <td>0</td>\n",
       "      <td>PRACTICANTE COMERCIAL, en Tupemesa - septiembr...</td>\n",
       "      <td>TUPEMESA, empresa fabricante de productos y ...</td>\n",
       "    </tr>\n",
       "    <tr>\n",
       "      <td>1</td>\n",
       "      <td>Practicante Comercial, en Supermercados Peruan...</td>\n",
       "      <td>Supermercados Peruanos, empresa que fomenta y...</td>\n",
       "    </tr>\n",
       "    <tr>\n",
       "      <td>2</td>\n",
       "      <td>Practicante Comercial, en Talma Servicios Aero...</td>\n",
       "      <td>Talma, empresa líder en servicios aeroportuar...</td>\n",
       "    </tr>\n",
       "    <tr>\n",
       "      <td>3</td>\n",
       "      <td>Practicante Comercial , en Interseguro Compañí...</td>\n",
       "      <td>Somos la Compañía de Seguros del Grupo Interc...</td>\n",
       "    </tr>\n",
       "    <tr>\n",
       "      <td>4</td>\n",
       "      <td>Practicante Comercial, en Nexa Resources - ago...</td>\n",
       "      <td>Somos una empresa minera global, que vela por...</td>\n",
       "    </tr>\n",
       "    <tr>\n",
       "      <td>5</td>\n",
       "      <td>Practicante Comercial, en Confidencial - septi...</td>\n",
       "      <td>Importante empresa  Trasnacional,  Requiere ...</td>\n",
       "    </tr>\n",
       "    <tr>\n",
       "      <td>6</td>\n",
       "      <td>Practicante Profesional Comercial, en BITEL - ...</td>\n",
       "      <td>Bitel, es el nuevo operador de telefonía y fo...</td>\n",
       "    </tr>\n",
       "    <tr>\n",
       "      <td>7</td>\n",
       "      <td>Practicante Profesional - Comercial, en MOTRIZ...</td>\n",
       "      <td>Practicante Profesional - ComercialNos encont...</td>\n",
       "    </tr>\n",
       "    <tr>\n",
       "      <td>8</td>\n",
       "      <td>PRACTICANTE  PROFESIONAL AREA COMERCIAL, en HO...</td>\n",
       "      <td>Housemart Peru empresa importadora de acabado...</td>\n",
       "    </tr>\n",
       "    <tr>\n",
       "      <td>9</td>\n",
       "      <td>Practicante Profesional - Comercial, en MODASA...</td>\n",
       "      <td>PRACTICANTE PROFESIONAL COMERCIALMODASA, impo...</td>\n",
       "    </tr>\n",
       "    <tr>\n",
       "      <td>10</td>\n",
       "      <td>Practicante Profesional Área Comercial, en CID...</td>\n",
       "      <td>Comercial Industrial Delta S.A., empresa con ...</td>\n",
       "    </tr>\n",
       "    <tr>\n",
       "      <td>11</td>\n",
       "      <td>Practicante Profesional Comercial Envasado, en...</td>\n",
       "      <td>¡Es tu oportunidad! Si quieres pertenecer al ...</td>\n",
       "    </tr>\n",
       "    <tr>\n",
       "      <td>12</td>\n",
       "      <td>Practicante Comercial - Ventas, en Trupal S.A ...</td>\n",
       "      <td>Somos líderes en el mercado dedicada a la fab...</td>\n",
       "    </tr>\n",
       "    <tr>\n",
       "      <td>13</td>\n",
       "      <td>Practicante de Inteligencia Comercial , en LUC...</td>\n",
       "      <td>¡Únete a una de las mejores empresas para tr...</td>\n",
       "    </tr>\n",
       "    <tr>\n",
       "      <td>14</td>\n",
       "      <td>Practicante de Inteligencia Comercial, en Banc...</td>\n",
       "      <td>Somos una entidad financiera de capitales per...</td>\n",
       "    </tr>\n",
       "    <tr>\n",
       "      <td>15</td>\n",
       "      <td>PRACTICANTE COMERCIAL - CANAL SUDAMÉRICA, en C...</td>\n",
       "      <td>La empresa Celima Trébol se encuentra en la b...</td>\n",
       "    </tr>\n",
       "    <tr>\n",
       "      <td>16</td>\n",
       "      <td>Practicante Comercial - Marcas Propias, en Tai...</td>\n",
       "      <td>TAI LOY, empresa líder en la distribución de ...</td>\n",
       "    </tr>\n",
       "    <tr>\n",
       "      <td>17</td>\n",
       "      <td>Practicante para el Área Comercial, en BSG INS...</td>\n",
       "      <td>Empresa dedicada al rubro educativo , con sed...</td>\n",
       "    </tr>\n",
       "    <tr>\n",
       "      <td>18</td>\n",
       "      <td>Área Comercial | Prácticas Ingeniería Industri...</td>\n",
       "      <td>La empresa Cartones del Pacífico se encuentra...</td>\n",
       "    </tr>\n",
       "    <tr>\n",
       "      <td>19</td>\n",
       "      <td>Practicante de Inteligencia Comercial-Financie...</td>\n",
       "      <td>Practicante de  Inteligencia Comercial-Finan...</td>\n",
       "    </tr>\n",
       "    <tr>\n",
       "      <td>20</td>\n",
       "      <td>Practicante del área comercial - Ad Honorem, e...</td>\n",
       "      <td>Empresa de servicios solicita señorita estudi...</td>\n",
       "    </tr>\n",
       "    <tr>\n",
       "      <td>21</td>\n",
       "      <td>Practicante Pre Profesional - Profesional | Ár...</td>\n",
       "      <td>La empresa Cartones del Pacífico se encuentra...</td>\n",
       "    </tr>\n",
       "    <tr>\n",
       "      <td>22</td>\n",
       "      <td>PRACTICANTE PROFESIONAL PARA LA GERENCIA COMER...</td>\n",
       "      <td>Como parte de nuestro crecimiento institucion...</td>\n",
       "    </tr>\n",
       "    <tr>\n",
       "      <td>23</td>\n",
       "      <td>Practicante Pre Profesional Comercial GP (COD:...</td>\n",
       "      <td>Por encargo de nuestro cliente, la empresa Si...</td>\n",
       "    </tr>\n",
       "    <tr>\n",
       "      <td>24</td>\n",
       "      <td>PRACTICAS - PROFESIONALES DPTO COMERCIAL Y MAR...</td>\n",
       "      <td>EMPRESA EXTRANJERA, NECESITA CONTRATAR : PROF...</td>\n",
       "    </tr>\n",
       "    <tr>\n",
       "      <td>25</td>\n",
       "      <td>Practicante Pre Profesional de Marketing - Com...</td>\n",
       "      <td>Inchcape, es una empresa global con presencia...</td>\n",
       "    </tr>\n",
       "    <tr>\n",
       "      <td>26</td>\n",
       "      <td>PRACTICAS PRE-PROFESIONALES DPTO COMERCIAL Y M...</td>\n",
       "      <td>EMPRESA EXTRANJERA, NECESITA CONTRATAR DAMAS ...</td>\n",
       "    </tr>\n",
       "    <tr>\n",
       "      <td>27</td>\n",
       "      <td>Practicante Comercial, en Pricewaterhousecoope...</td>\n",
       "      <td>Funciones Apoyo en la elaboración y análisis ...</td>\n",
       "    </tr>\n",
       "    <tr>\n",
       "      <td>28</td>\n",
       "      <td>Practicante Comercial, en Pricewaterhousecoope...</td>\n",
       "      <td>Funciones Apoyo en la elaboración y análisis ...</td>\n",
       "    </tr>\n",
       "    <tr>\n",
       "      <td>29</td>\n",
       "      <td>Practicante Comercial, en Pricewaterhousecoope...</td>\n",
       "      <td>Funciones Apoyo en la elaboración y análisis ...</td>\n",
       "    </tr>\n",
       "    <tr>\n",
       "      <td>30</td>\n",
       "      <td>Practicante Comercial, en Confidencial - septi...</td>\n",
       "      <td>FUNCIONES:Apoyar en la realización de análisi...</td>\n",
       "    </tr>\n",
       "    <tr>\n",
       "      <td>31</td>\n",
       "      <td>PRACTICANTE COMERCIAL , en FOUR TIME LOGISTICS...</td>\n",
       "      <td>Requerido:Estudiante del 5to a 8vo ciclo de l...</td>\n",
       "    </tr>\n",
       "  </tbody>\n",
       "</table>\n",
       "</div>"
      ],
      "text/plain": [
       "                                                    0  \\\n",
       "0   PRACTICANTE COMERCIAL, en Tupemesa - septiembr...   \n",
       "1   Practicante Comercial, en Supermercados Peruan...   \n",
       "2   Practicante Comercial, en Talma Servicios Aero...   \n",
       "3   Practicante Comercial , en Interseguro Compañí...   \n",
       "4   Practicante Comercial, en Nexa Resources - ago...   \n",
       "5   Practicante Comercial, en Confidencial - septi...   \n",
       "6   Practicante Profesional Comercial, en BITEL - ...   \n",
       "7   Practicante Profesional - Comercial, en MOTRIZ...   \n",
       "8   PRACTICANTE  PROFESIONAL AREA COMERCIAL, en HO...   \n",
       "9   Practicante Profesional - Comercial, en MODASA...   \n",
       "10  Practicante Profesional Área Comercial, en CID...   \n",
       "11  Practicante Profesional Comercial Envasado, en...   \n",
       "12  Practicante Comercial - Ventas, en Trupal S.A ...   \n",
       "13  Practicante de Inteligencia Comercial , en LUC...   \n",
       "14  Practicante de Inteligencia Comercial, en Banc...   \n",
       "15  PRACTICANTE COMERCIAL - CANAL SUDAMÉRICA, en C...   \n",
       "16  Practicante Comercial - Marcas Propias, en Tai...   \n",
       "17  Practicante para el Área Comercial, en BSG INS...   \n",
       "18  Área Comercial | Prácticas Ingeniería Industri...   \n",
       "19  Practicante de Inteligencia Comercial-Financie...   \n",
       "20  Practicante del área comercial - Ad Honorem, e...   \n",
       "21  Practicante Pre Profesional - Profesional | Ár...   \n",
       "22  PRACTICANTE PROFESIONAL PARA LA GERENCIA COMER...   \n",
       "23  Practicante Pre Profesional Comercial GP (COD:...   \n",
       "24  PRACTICAS - PROFESIONALES DPTO COMERCIAL Y MAR...   \n",
       "25  Practicante Pre Profesional de Marketing - Com...   \n",
       "26  PRACTICAS PRE-PROFESIONALES DPTO COMERCIAL Y M...   \n",
       "27  Practicante Comercial, en Pricewaterhousecoope...   \n",
       "28  Practicante Comercial, en Pricewaterhousecoope...   \n",
       "29  Practicante Comercial, en Pricewaterhousecoope...   \n",
       "30  Practicante Comercial, en Confidencial - septi...   \n",
       "31  PRACTICANTE COMERCIAL , en FOUR TIME LOGISTICS...   \n",
       "\n",
       "                                                    1  \n",
       "0     TUPEMESA, empresa fabricante de productos y ...  \n",
       "1    Supermercados Peruanos, empresa que fomenta y...  \n",
       "2    Talma, empresa líder en servicios aeroportuar...  \n",
       "3    Somos la Compañía de Seguros del Grupo Interc...  \n",
       "4    Somos una empresa minera global, que vela por...  \n",
       "5     Importante empresa  Trasnacional,  Requiere ...  \n",
       "6    Bitel, es el nuevo operador de telefonía y fo...  \n",
       "7    Practicante Profesional - ComercialNos encont...  \n",
       "8    Housemart Peru empresa importadora de acabado...  \n",
       "9    PRACTICANTE PROFESIONAL COMERCIALMODASA, impo...  \n",
       "10   Comercial Industrial Delta S.A., empresa con ...  \n",
       "11   ¡Es tu oportunidad! Si quieres pertenecer al ...  \n",
       "12   Somos líderes en el mercado dedicada a la fab...  \n",
       "13    ¡Únete a una de las mejores empresas para tr...  \n",
       "14   Somos una entidad financiera de capitales per...  \n",
       "15   La empresa Celima Trébol se encuentra en la b...  \n",
       "16   TAI LOY, empresa líder en la distribución de ...  \n",
       "17   Empresa dedicada al rubro educativo , con sed...  \n",
       "18   La empresa Cartones del Pacífico se encuentra...  \n",
       "19    Practicante de  Inteligencia Comercial-Finan...  \n",
       "20   Empresa de servicios solicita señorita estudi...  \n",
       "21   La empresa Cartones del Pacífico se encuentra...  \n",
       "22   Como parte de nuestro crecimiento institucion...  \n",
       "23   Por encargo de nuestro cliente, la empresa Si...  \n",
       "24   EMPRESA EXTRANJERA, NECESITA CONTRATAR : PROF...  \n",
       "25   Inchcape, es una empresa global con presencia...  \n",
       "26   EMPRESA EXTRANJERA, NECESITA CONTRATAR DAMAS ...  \n",
       "27   Funciones Apoyo en la elaboración y análisis ...  \n",
       "28   Funciones Apoyo en la elaboración y análisis ...  \n",
       "29   Funciones Apoyo en la elaboración y análisis ...  \n",
       "30   FUNCIONES:Apoyar en la realización de análisi...  \n",
       "31   Requerido:Estudiante del 5to a 8vo ciclo de l...  "
      ]
     },
     "execution_count": 65,
     "metadata": {},
     "output_type": "execute_result"
    }
   ],
   "source": [
    "df"
   ]
  },
  {
   "cell_type": "code",
   "execution_count": 66,
   "metadata": {},
   "outputs": [],
   "source": [
    "df.to_csv('data_bumeran.csv',encoding='utf-8')"
   ]
  }
 ],
 "metadata": {
  "kernelspec": {
   "display_name": "Python 3",
   "language": "python",
   "name": "python3"
  },
  "language_info": {
   "codemirror_mode": {
    "name": "ipython",
    "version": 3
   },
   "file_extension": ".py",
   "mimetype": "text/x-python",
   "name": "python",
   "nbconvert_exporter": "python",
   "pygments_lexer": "ipython3",
   "version": "3.6.8"
  }
 },
 "nbformat": 4,
 "nbformat_minor": 2
}
